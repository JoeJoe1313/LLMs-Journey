{
 "cells": [
  {
   "cell_type": "code",
   "execution_count": 1,
   "metadata": {},
   "outputs": [],
   "source": [
    "import json\n",
    "from pathlib import Path\n",
    "\n",
    "import matplotlib.pyplot as plt\n",
    "import mlx.optimizers as optim\n",
    "from mlx.utils import tree_flatten\n",
    "from mlx_lm import generate, load\n",
    "from mlx_lm.tuner import TrainingArgs, linear_to_lora_layers, train\n",
    "\n",
    "from mlx_utils import load_hf_dataset"
   ]
  },
  {
   "cell_type": "code",
   "execution_count": 2,
   "metadata": {},
   "outputs": [
    {
     "data": {
      "application/vnd.jupyter.widget-view+json": {
       "model_id": "fdb5c223acde4caaae27a737a4ed03d3",
       "version_major": 2,
       "version_minor": 0
      },
      "text/plain": [
       "Fetching 7 files:   0%|          | 0/7 [00:00<?, ?it/s]"
      ]
     },
     "metadata": {},
     "output_type": "display_data"
    }
   ],
   "source": [
    "model_path = \"mlx-community/Mistral-7B-Instruct-v0.3-4bit\"\n",
    "model, tokenizer = load(model_path)"
   ]
  },
  {
   "cell_type": "code",
   "execution_count": 3,
   "metadata": {},
   "outputs": [],
   "source": [
    "prompt = \"What is under-fitting and overfitting in machine learning?\"\n",
    "messages = [{\"role\": \"user\", \"content\": prompt}]\n",
    "prompt = tokenizer.apply_chat_template(\n",
    "    messages, tokenize=False, add_generation_prompt=True\n",
    ")"
   ]
  },
  {
   "cell_type": "code",
   "execution_count": 4,
   "metadata": {},
   "outputs": [
    {
     "name": "stdout",
     "output_type": "stream",
     "text": [
      "==========\n",
      "Under-fitting and overfitting are two common problems that can occur when training machine learning models.\n",
      "\n",
      "1. Under-fitting: This occurs when a model is too simple to learn the underlying pattern in the data. In other words, the model is not complex enough to capture the relationship between the input and output variables. As a result, the model's performance on both the training and test data is poor. This can happen when the model has too few parameters, or when the model is not trained for long enough.\n",
      "\n",
      "2. Overfitting: This occurs when a model is too complex and starts to fit the noise in the data instead of the underlying pattern. In other words, the model is learning the idiosyncrasies of the training data rather than the general pattern that applies to new, unseen data. As a result, the model performs well on the training data but poorly on the test data. This can happen when the model has too many parameters, or when the model is trained for too long.\n",
      "\n",
      "The goal in machine learning is to find a balance between under-fitting and overfitting, where the model is complex enough to capture the underlying pattern in the data, but not so complex that it starts\n",
      "==========\n",
      "Prompt: 19 tokens, 154.542 tokens-per-sec\n",
      "Generation: 256 tokens, 31.613 tokens-per-sec\n",
      "Peak memory: 4.153 GB\n"
     ]
    }
   ],
   "source": [
    "response = generate(model, tokenizer, prompt=prompt, verbose=True)"
   ]
  },
  {
   "cell_type": "markdown",
   "metadata": {},
   "source": [
    "# Model fine-tuning"
   ]
  },
  {
   "cell_type": "code",
   "execution_count": 5,
   "metadata": {},
   "outputs": [],
   "source": [
    "adapter_path = Path(\"adapters\")\n",
    "adapter_path.mkdir(parents=True, exist_ok=True)"
   ]
  },
  {
   "cell_type": "markdown",
   "metadata": {},
   "source": [
    "Set the LoRA parameters."
   ]
  },
  {
   "cell_type": "code",
   "execution_count": 6,
   "metadata": {},
   "outputs": [],
   "source": [
    "lora_config = {\n",
    " \"num_layers\": 8,\n",
    " \"lora_parameters\": {\n",
    "    \"rank\": 8,\n",
    "    \"scale\": 20.0,\n",
    "    \"dropout\": 0.0,\n",
    "}}"
   ]
  },
  {
   "cell_type": "code",
   "execution_count": 7,
   "metadata": {},
   "outputs": [],
   "source": [
    "with open(adapter_path / \"adapter_config.json\", \"w\") as fid:\n",
    "    json.dump(lora_config, fid, indent=4)"
   ]
  },
  {
   "cell_type": "markdown",
   "metadata": {},
   "source": [
    "Set the training parameters."
   ]
  },
  {
   "cell_type": "code",
   "execution_count": 8,
   "metadata": {},
   "outputs": [],
   "source": [
    "training_args = TrainingArgs(\n",
    "    adapter_file=adapter_path / \"adapters.safetensors\",\n",
    "    iters=200,\n",
    "    steps_per_eval=50\n",
    ")"
   ]
  },
  {
   "cell_type": "markdown",
   "metadata": {},
   "source": [
    "Freeze the base model"
   ]
  },
  {
   "cell_type": "code",
   "execution_count": 9,
   "metadata": {},
   "outputs": [],
   "source": [
    "_ = model.freeze()"
   ]
  },
  {
   "cell_type": "markdown",
   "metadata": {},
   "source": [
    "Convert the linear layers to LoRA layers"
   ]
  },
  {
   "cell_type": "code",
   "execution_count": 10,
   "metadata": {},
   "outputs": [],
   "source": [
    "linear_to_lora_layers(model, lora_config[\"num_layers\"], lora_config[\"lora_parameters\"])"
   ]
  },
  {
   "cell_type": "markdown",
   "metadata": {},
   "source": [
    "Check the trainable model parameters."
   ]
  },
  {
   "cell_type": "code",
   "execution_count": 11,
   "metadata": {},
   "outputs": [
    {
     "name": "stdout",
     "output_type": "stream",
     "text": [
      "Number of trainable parameters: 3407872\n"
     ]
    }
   ],
   "source": [
    "num_train_params = (\n",
    "    sum(v.size for _, v in tree_flatten(model.trainable_parameters()))\n",
    ")\n",
    "print(f\"Number of trainable parameters: {num_train_params}\")"
   ]
  },
  {
   "cell_type": "markdown",
   "metadata": {},
   "source": [
    "Training mode"
   ]
  },
  {
   "cell_type": "code",
   "execution_count": 12,
   "metadata": {},
   "outputs": [],
   "source": [
    "_ = model.train()"
   ]
  },
  {
   "cell_type": "code",
   "execution_count": 13,
   "metadata": {},
   "outputs": [],
   "source": [
    "opt = optim.Adam(learning_rate=1e-5)"
   ]
  },
  {
   "cell_type": "markdown",
   "metadata": {},
   "source": [
    "Class to record the data during the training process."
   ]
  },
  {
   "cell_type": "code",
   "execution_count": 14,
   "metadata": {},
   "outputs": [],
   "source": [
    "class Metrics:\n",
    "    train_losses = []\n",
    "    val_losses = []\n",
    "    def on_train_loss_report(self, info):\n",
    "        self.train_losses.append((info[\"iteration\"], info[\"train_loss\"]))\n",
    "    def on_val_loss_report(self, info):\n",
    "        self.val_losses.append((info[\"iteration\"], info[\"val_loss\"]))"
   ]
  },
  {
   "cell_type": "code",
   "execution_count": 15,
   "metadata": {},
   "outputs": [],
   "source": [
    "metrics = Metrics()"
   ]
  },
  {
   "cell_type": "markdown",
   "metadata": {},
   "source": [
    "Start fine-tuning"
   ]
  },
  {
   "cell_type": "code",
   "execution_count": 16,
   "metadata": {},
   "outputs": [],
   "source": [
    "train_set, valid_set, test_set = load_hf_dataset(\"win-wang/Machine_Learning_QA_Collection\", tokenizer)"
   ]
  },
  {
   "cell_type": "code",
   "execution_count": 17,
   "metadata": {},
   "outputs": [
    {
     "name": "stdout",
     "output_type": "stream",
     "text": [
      "Starting training..., iters: 200\n",
      "Iter 1: Val loss 2.400, Val took 91.158s\n",
      "Iter 10: Train loss 1.987, Learning Rate 1.000e-05, It/sec 0.128, Tokens/sec 110.636, Trained Tokens 8625, Peak mem 20.312 GB\n",
      "Iter 20: Train loss 1.935, Learning Rate 1.000e-05, It/sec 0.102, Tokens/sec 121.555, Trained Tokens 20529, Peak mem 20.312 GB\n",
      "Iter 30: Train loss 1.748, Learning Rate 1.000e-05, It/sec 0.114, Tokens/sec 109.036, Trained Tokens 30121, Peak mem 20.312 GB\n",
      "Iter 40: Train loss 1.682, Learning Rate 1.000e-05, It/sec 0.128, Tokens/sec 117.938, Trained Tokens 39307, Peak mem 21.941 GB\n",
      "Iter 50: Val loss 1.813, Val took 66.287s\n",
      "Iter 50: Train loss 1.807, Learning Rate 1.000e-05, It/sec 3.317, Tokens/sec 2554.015, Trained Tokens 47007, Peak mem 21.941 GB\n",
      "Iter 60: Train loss 1.767, Learning Rate 1.000e-05, It/sec 0.122, Tokens/sec 121.253, Trained Tokens 56912, Peak mem 21.941 GB\n",
      "Iter 70: Train loss 1.645, Learning Rate 1.000e-05, It/sec 0.141, Tokens/sec 120.172, Trained Tokens 65418, Peak mem 22.216 GB\n",
      "Iter 80: Train loss 1.804, Learning Rate 1.000e-05, It/sec 0.108, Tokens/sec 115.980, Trained Tokens 76133, Peak mem 22.216 GB\n",
      "Iter 90: Train loss 1.575, Learning Rate 1.000e-05, It/sec 0.159, Tokens/sec 141.141, Trained Tokens 85026, Peak mem 22.216 GB\n",
      "Iter 100: Val loss 1.822, Val took 62.953s\n",
      "Iter 100: Train loss 1.818, Learning Rate 1.000e-05, It/sec 1.723, Tokens/sec 1591.249, Trained Tokens 94262, Peak mem 22.216 GB\n",
      "Iter 100: Saved adapter weights to adapters/adapters.safetensors and adapters/0000100_adapters.safetensors.\n",
      "Iter 110: Train loss 1.619, Learning Rate 1.000e-05, It/sec 0.039, Tokens/sec 62.339, Trained Tokens 110255, Peak mem 67.760 GB\n",
      "Iter 120: Train loss 1.446, Learning Rate 1.000e-05, It/sec 0.048, Tokens/sec 65.435, Trained Tokens 123775, Peak mem 67.760 GB\n",
      "Iter 130: Train loss 1.667, Learning Rate 1.000e-05, It/sec 0.130, Tokens/sec 118.401, Trained Tokens 132863, Peak mem 67.760 GB\n",
      "Iter 140: Train loss 1.671, Learning Rate 1.000e-05, It/sec 0.066, Tokens/sec 83.134, Trained Tokens 145506, Peak mem 67.760 GB\n",
      "Iter 150: Val loss 1.751, Val took 73.272s\n",
      "Iter 150: Train loss 1.647, Learning Rate 1.000e-05, It/sec 3.114, Tokens/sec 2598.038, Trained Tokens 153850, Peak mem 67.760 GB\n",
      "Iter 160: Train loss 1.508, Learning Rate 1.000e-05, It/sec 0.163, Tokens/sec 128.249, Trained Tokens 161718, Peak mem 67.760 GB\n",
      "Iter 170: Train loss 1.662, Learning Rate 1.000e-05, It/sec 0.119, Tokens/sec 121.337, Trained Tokens 171942, Peak mem 67.760 GB\n",
      "Iter 180: Train loss 1.410, Learning Rate 1.000e-05, It/sec 0.117, Tokens/sec 105.392, Trained Tokens 180975, Peak mem 67.760 GB\n",
      "Iter 190: Train loss 1.669, Learning Rate 1.000e-05, It/sec 0.055, Tokens/sec 69.594, Trained Tokens 193744, Peak mem 67.760 GB\n",
      "Iter 200: Val loss 1.678, Val took 57.121s\n",
      "Iter 200: Train loss 1.445, Learning Rate 1.000e-05, It/sec 4.781, Tokens/sec 4793.146, Trained Tokens 203769, Peak mem 67.760 GB\n",
      "Iter 200: Saved adapter weights to adapters/adapters.safetensors and adapters/0000200_adapters.safetensors.\n",
      "Saved final weights to adapters/adapters.safetensors.\n"
     ]
    }
   ],
   "source": [
    "train(\n",
    "    model=model,\n",
    "    tokenizer=tokenizer,\n",
    "    args=training_args,\n",
    "    optimizer=opt,\n",
    "    train_dataset=train_set,\n",
    "    val_dataset=valid_set,\n",
    "    training_callback=metrics,\n",
    ")"
   ]
  },
  {
   "cell_type": "code",
   "execution_count": 18,
   "metadata": {},
   "outputs": [
    {
     "data": {
      "image/png": "[encoded data removed]",
      "text/plain": [
       "<Figure size 640x480 with 1 Axes>"
      ]
     },
     "metadata": {},
     "output_type": "display_data"
    }
   ],
   "source": [
    "train_its, train_losses = zip(*metrics.train_losses)\n",
    "val_its, val_losses = zip(*metrics.val_losses)\n",
    "plt.plot(train_its, train_losses, '-o')\n",
    "plt.plot(val_its, val_losses, '-o')\n",
    "plt.xlabel(\"Iteration\")\n",
    "plt.ylabel(\"Loss\")\n",
    "plt.legend(['Train', \"Valid\"]);"
   ]
  },
  {
   "cell_type": "markdown",
   "metadata": {},
   "source": [
    "Test model_lora"
   ]
  },
  {
   "cell_type": "code",
   "execution_count": 19,
   "metadata": {},
   "outputs": [
    {
     "data": {
      "application/vnd.jupyter.widget-view+json": {
       "model_id": "b13b162b4ec943c2abb9b3ca372dd84b",
       "version_major": 2,
       "version_minor": 0
      },
      "text/plain": [
       "Fetching 7 files:   0%|          | 0/7 [00:00<?, ?it/s]"
      ]
     },
     "metadata": {},
     "output_type": "display_data"
    }
   ],
   "source": [
    "model_lora, _ = load(model_path, adapter_path=\"adapters\")"
   ]
  },
  {
   "cell_type": "code",
   "execution_count": 20,
   "metadata": {},
   "outputs": [
    {
     "data": {
      "application/vnd.jupyter.widget-view+json": {
       "model_id": "9798ceb618514284a953f09ac8056e02",
       "version_major": 2,
       "version_minor": 0
      },
      "text/plain": [
       "Fetching 7 files:   0%|          | 0/7 [00:00<?, ?it/s]"
      ]
     },
     "metadata": {},
     "output_type": "display_data"
    }
   ],
   "source": [
    "model_lora, _ = load(model_path, adapter_path=\"adapters\")"
   ]
  },
  {
   "cell_type": "code",
   "execution_count": 21,
   "metadata": {},
   "outputs": [
    {
     "name": "stdout",
     "output_type": "stream",
     "text": [
      "==========\n",
      "Under-fitting and overfitting are two common issues in machine learning models.\n",
      "\n",
      "Under-fitting occurs when a model is too simple and fails to capture the underlying patterns in the data, leading to poor performance on the training and test data. This can be addressed by increasing the complexity of the model or adding more features.\n",
      "\n",
      "Overfitting, on the other hand, occurs when a model is too complex and fits the training data too closely, resulting in poor generalization to new data. This can be addressed by simplifying the model, reducing the number of features, or using regularization techniques to prevent overfitting.\n",
      "==========\n",
      "Prompt: 19 tokens, 157.288 tokens-per-sec\n",
      "Generation: 131 tokens, 27.909 tokens-per-sec\n",
      "Peak memory: 67.760 GB\n"
     ]
    },
    {
     "data": {
      "text/plain": [
       "'Under-fitting and overfitting are two common issues in machine learning models.\\n\\nUnder-fitting occurs when a model is too simple and fails to capture the underlying patterns in the data, leading to poor performance on the training and test data. This can be addressed by increasing the complexity of the model or adding more features.\\n\\nOverfitting, on the other hand, occurs when a model is too complex and fits the training data too closely, resulting in poor generalization to new data. This can be addressed by simplifying the model, reducing the number of features, or using regularization techniques to prevent overfitting.'"
      ]
     },
     "execution_count": 21,
     "metadata": {},
     "output_type": "execute_result"
    }
   ],
   "source": [
    "generate(model_lora, tokenizer, prompt=prompt, verbose=True)"
   ]
  },
  {
   "cell_type": "code",
   "execution_count": null,
   "metadata": {},
   "outputs": [],
   "source": []
  }
 ],
 "metadata": {
  "kernelspec": {
   "display_name": "imp",
   "language": "python",
   "name": "python3"
  },
  "language_info": {
   "codemirror_mode": {
    "name": "ipython",
    "version": 3
   },
   "file_extension": ".py",
   "mimetype": "text/x-python",
   "name": "python",
   "nbconvert_exporter": "python",
   "pygments_lexer": "ipython3",
   "version": "3.9.17"
  }
 },
 "nbformat": 4,
 "nbformat_minor": 2
}

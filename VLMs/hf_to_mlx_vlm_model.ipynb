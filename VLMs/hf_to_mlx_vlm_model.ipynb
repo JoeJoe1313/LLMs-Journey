{
 "cells": [
  {
   "cell_type": "code",
   "execution_count": 1,
   "id": "b6dd2453",
   "metadata": {},
   "outputs": [],
   "source": [
    "from mlx_vlm import convert"
   ]
  },
  {
   "cell_type": "code",
   "execution_count": 2,
   "id": "110c82f9",
   "metadata": {},
   "outputs": [],
   "source": [
    "repo = \"nanonets/Nanonets-OCR-s\"\n",
    "upload_repo = \"mlx-community/Nanonets-OCR-s-bf16\""
   ]
  },
  {
   "cell_type": "code",
   "execution_count": null,
   "id": "40f78116",
   "metadata": {},
   "outputs": [
    {
     "name": "stdout",
     "output_type": "stream",
     "text": [
      "[INFO] Loading\n"
     ]
    },
    {
     "name": "stderr",
     "output_type": "stream",
     "text": [
      "/Users/ljoana/.pyenv/versions/ml/lib/python3.11/site-packages/huggingface_hub/file_download.py:943: FutureWarning: `resume_download` is deprecated and will be removed in version 1.0.0. Downloads always resume when possible. If you want to force a new download, use `force_download=True`.\n",
      "  warnings.warn(\n"
     ]
    },
    {
     "data": {
      "application/vnd.jupyter.widget-view+json": {
       "model_id": "bc99a59a4aab4ed495a6929574f9b019",
       "version_major": 2,
       "version_minor": 0
      },
      "text/plain": [
       "Fetching 14 files:   0%|          | 0/14 [00:00<?, ?it/s]"
      ]
     },
     "metadata": {},
     "output_type": "display_data"
    },
    {
     "name": "stderr",
     "output_type": "stream",
     "text": [
      "Using a slow image processor as `use_fast` is unset and a slow processor was saved with this model. `use_fast=True` will be the default behavior in v4.52, even if the model was saved with a slow processor. This will result in minor differences in outputs. You'll still be able to use a slow processor with `use_fast=False`.\n"
     ]
    },
    {
     "name": "stdout",
     "output_type": "stream",
     "text": [
      "[INFO] Using dtype: bfloat16\n"
     ]
    },
    {
     "data": {
      "application/vnd.jupyter.widget-view+json": {
       "model_id": "2cdb68be1c63431b9cb48537b82ee37a",
       "version_major": 2,
       "version_minor": 0
      },
      "text/plain": [
       "README.md:   0%|          | 0.00/6.29k [00:00<?, ?B/s]"
      ]
     },
     "metadata": {},
     "output_type": "display_data"
    },
    {
     "name": "stderr",
     "output_type": "stream",
     "text": [
      "Start hashing 15 files.\n",
      "Finished hashing 15 files.\n",
      "Uploading files using Xet Storage..\n"
     ]
    },
    {
     "data": {
      "application/vnd.jupyter.widget-view+json": {
       "model_id": "e42636a16a48401eb183081eba0ac4ea",
       "version_major": 2,
       "version_minor": 0
      },
      "text/plain": [
       "Uploading...:   0%|          | 0.00/7.52G [00:00<?, ?B/s]"
      ]
     },
     "metadata": {},
     "output_type": "display_data"
    },
    {
     "name": "stdout",
     "output_type": "stream",
     "text": [
      "Upload successful, go to https://huggingface.co/mlx-community/Nanonets-OCR-s-bf16 for details.\n"
     ]
    }
   ],
   "source": [
    "convert(hf_path=repo, dtype=\"bfloat16\", upload_repo=upload_repo)"
   ]
  },
  {
   "cell_type": "code",
   "execution_count": null,
   "id": "d0e0b85a",
   "metadata": {},
   "outputs": [],
   "source": []
  }
 ],
 "metadata": {
  "kernelspec": {
   "display_name": "ml",
   "language": "python",
   "name": "python3"
  },
  "language_info": {
   "codemirror_mode": {
    "name": "ipython",
    "version": 3
   },
   "file_extension": ".py",
   "mimetype": "text/x-python",
   "name": "python",
   "nbconvert_exporter": "python",
   "pygments_lexer": "ipython3",
   "version": "3.11.9"
  }
 },
 "nbformat": 4,
 "nbformat_minor": 5
}

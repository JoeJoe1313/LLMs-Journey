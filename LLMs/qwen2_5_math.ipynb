{
 "cells": [
  {
   "cell_type": "code",
   "execution_count": 1,
   "metadata": {},
   "outputs": [],
   "source": [
    "from mlx_lm import generate, load, stream_generate"
   ]
  },
  {
   "cell_type": "code",
   "execution_count": 2,
   "metadata": {},
   "outputs": [],
   "source": [
    "model, tokenizer = load(\"/Users/ljoana/repos/LLMs-Journey/LLMs/mlx_model\")"
   ]
  },
  {
   "cell_type": "code",
   "execution_count": 3,
   "metadata": {},
   "outputs": [],
   "source": [
    "prompt = \"Solve the 2D wave equation of a rectangular membrane.\""
   ]
  },
  {
   "cell_type": "code",
   "execution_count": 4,
   "metadata": {},
   "outputs": [],
   "source": [
    "messages = [{\"role\": \"user\", \"content\": prompt}]\n",
    "prompt = tokenizer.apply_chat_template(messages, add_generation_prompt=True)"
   ]
  },
  {
   "cell_type": "code",
   "execution_count": null,
   "metadata": {},
   "outputs": [
    {
     "name": "stdout",
     "output_type": "stream",
     "text": [
      "==========\n",
      "To solve the 2D wave equation of a rectangular membrane, we start with the partial differential equation (PDE) that describes the motion of the membrane:\n",
      "\n",
      "\\[\n",
      "\\frac{\\partial^2 u}{\\partial t^2} = c^2 \\left( \\frac{\\partial^2 u}{\\partial x^2} + \\frac{\\partial^2 u}{\\partial y^2} \\right)\n",
      "\\]\n",
      "\n",
      "where \\( u(x, y, t) \\) is the displacement of the membrane at position \\((x, y)\\) and time \\( t \\), and \\( c \\) is the wave speed.\n",
      "\n",
      "We assume that the membrane is fixed along all four edges, so the boundary conditions are:\n",
      "\n",
      "\\[\n",
      "u(0, y, t) = u(a, y, t) = u(x, 0, t) = u(x, b, t) = 0\n",
      "\\]\n",
      "\n",
      "for all \\( t \\), where \\( a \\) and \\( b \\) are the lengths of the sides of the rectangle.\n",
      "\n",
      "We use the method of separation of variables. Assume that the solution can be written as a product of functions of \\( x \\), \\( y \\), and \\( t \\):\n",
      "\n",
      "\\[\n",
      "u(x, y, t) = X(x) Y(y) T(t)\n",
      "\\]\n",
      "\n",
      "Substituting this into the wave equation, we get:\n",
      "\n",
      "\\[\n",
      "X(x) Y(y) \\frac{d^2 T(t)}{dt^2} = c^2 \\left( X''(x) Y(y) T(t) + X(x) Y''(y) T(t) \\right)\n",
      "\\]\n",
      "\n",
      "Dividing both sides by \\( c^2 X(x) Y(y) T(t) \\), we obtain:\n",
      "\n",
      "\\[\n",
      "\\frac{1}{c^2 T(t)} \\frac{d^2 T(t)}{dt^2} = \\frac{X''(x)}{X(x)} + \\frac{Y''(y)}{Y(y)}\n",
      "\\]\n",
      "\n",
      "Since the left side depends only on \\( t \\) and the right side depends only on \\( x \\) and \\( y \\), both sides must be equal to a constant. Let this constant be \\(-\\lambda\\). Then we have:\n",
      "\n",
      "\\[\n",
      "\\frac{1}{c^2 T(t)} \\frac{d^2 T(t)}{dt^2} = -\\lambda \\quad \\text{and} \\quad \\frac{X''(x)}{X(x)} + \\frac{Y''(y)}{Y(y)} = -\\lambda\n",
      "\\]\n",
      "\n",
      "From the first equation, we get:\n",
      "\n",
      "\\[\n",
      "\\frac{d^2 T(t)}{dt^2} + c^2 \\lambda T(t) = 0\n",
      "\\]\n",
      "\n",
      "This is a second-order ordinary differential equation (ODE) for \\( T(t) \\). The general solution depends on the value of \\(\\lambda\\). For \\(\\lambda > 0\\), the solution is:\n",
      "\n",
      "\\[\n",
      "T(t) = A \\cos(c \\sqrt{\\lambda} t) + B \\sin(c \\sqrt{\\lambda} t)\n",
      "\\]\n",
      "\n",
      "From the second equation, we have:\n",
      "\n",
      "\\[\n",
      "\\frac{X''(x)}{X(x)} = -\\lambda - \\frac{Y''(y)}{Y(y)} = -\\mu\n",
      "\\]\n",
      "\n",
      "where \\(\\mu = \\lambda - \\frac{Y''(y)}{Y(y)}\\). This gives us two ODEs:\n",
      "\n",
      "\\[\n",
      "X''(x) + \\mu X(x) = 0 \\quad \\text{and} \\quad Y''(y) + (\\lambda - \\mu) Y(y) = 0\n",
      "\\]\n",
      "\n",
      "For the boundary conditions \\( X(0) = X(a) = 0 \\), the solution to the ODE for \\( X(x) \\) is:\n",
      "\n",
      "\\[\n",
      "X(x) = A_n \\sin\\left(\\frac{n\\pi x}{a}\\right)\n",
      "\\]\n",
      "\n",
      "where \\( n \\) is a positive integer. The corresponding eigenvalue is:\n",
      "\n",
      "\\[\n",
      "\\mu_n = \\left(\\frac{n\\pi}{a}\\right)^2\n",
      "\\]\n",
      "\n",
      "For the boundary conditions \\( Y(0) = Y(b) = 0 \\), the solution to the ODE for \\( Y(y) \\) is:\n",
      "\n",
      "\\[\n",
      "Y(y) = B_m \\sin\\left(\\frac{m\\pi y}{b}\\right)\n",
      "\\]\n",
      "\n",
      "where \\( m \\) is a positive integer. The corresponding eigenvalue is:\n",
      "\n",
      "\\[\n",
      "\\lambda_{nm} = \\left(\\frac{n\\pi}{a}\\right)^2 + \\left(\\frac{m\\pi}{b}\\right)^2\n",
      "\\]\n",
      "\n",
      "Substituting \\(\\lambda_{nm}\\) into the solution for \\( T(t) \\), we get:\n",
      "\n",
      "\\[\n",
      "T_{nm}(t) = A_{nm} \\cos\\left(c \\sqrt{\\left(\\frac{n\\pi}{a}\\right)^2 + \\left(\\frac{m\\pi}{b}\\right)^2} t\\right) + B_{nm} \\sin\\left(c \\sqrt{\\left(\\frac{n\\pi}{a}\\right)^2 + \\left(\\frac{m\\pi}{b}\\right)^2} t\\right)\n",
      "\\]\n",
      "\n",
      "The general solution to the wave equation is a sum of all possible product solutions:\n",
      "\n",
      "\\[\n",
      "u(x, y, t) = \\sum_{n=1}^{\\infty} \\sum_{m=1}^{\\infty} \\left( A_{nm} \\cos\\left(c \\sqrt{\\left(\\frac{n\\pi}{a}\\right)^2 + \\left(\\frac{m\\pi}{b}\\right)^2} t\\right) + B_{nm} \\sin\\left(c \\sqrt{\\left(\\frac{n\\pi}{a}\\right)^2 + \\left(\\frac{m\\pi}{b}\\right)^2} t\\right) \\right) \\sin\\left(\\frac{n\\pi x}{a}\\right) \\sin\\left(\\frac{m\\pi y}{b}\\right)\n",
      "\\]\n",
      "\n",
      "The coefficients \\( A_{nm} \\) and \\( B_{nm} \\) are determined by the initial conditions of the problem. If the initial displacement \\( u(x, y, 0) \\) and the initial velocity \\( \\frac{\\partial u}{\\partial t}(x, y, 0) \\) are given, we can use these to find \\( A_{nm} \\) and \\( B_{nm} \\).\n",
      "\n",
      "The final answer is:\n",
      "\n",
      "\\[\n",
      "\\boxed{u(x, y, t) = \\sum_{n=1}^{\\infty} \\sum_{m=1}^{\\infty} \\left( A_{nm} \\cos\\left(c \\sqrt{\\left(\\frac{n\\pi}{a}\\right)^2 + \\left(\\frac{m\\pi}{b}\\right)^2} t\\right) + B_{nm} \\sin\\left(c \\sqrt{\\left(\\frac{n\\pi}{a}\\right)^2 + \\left(\\frac{m\\pi}{b}\\right)^2} t\\right) \\right) \\sin\\left(\\frac{n\\pi x}{a}\\right) \\sin\\left(\\frac{m\\pi y}{b}\\right)}\n",
      "\\]\n",
      "==========\n",
      "Prompt: 41 tokens, 201.911 tokens-per-sec\n",
      "Generation: 1549 tokens, 17.174 tokens-per-sec\n",
      "Peak memory: 8.244 GB\n"
     ]
    }
   ],
   "source": [
    "text = generate(model, tokenizer, prompt=prompt, verbose=True, max_tokens=2500)"
   ]
  },
  {
   "cell_type": "code",
   "execution_count": null,
   "metadata": {},
   "outputs": [],
   "source": []
  },
  {
   "cell_type": "code",
   "execution_count": null,
   "metadata": {},
   "outputs": [],
   "source": []
  }
 ],
 "metadata": {
  "kernelspec": {
   "display_name": "ml",
   "language": "python",
   "name": "python3"
  },
  "language_info": {
   "codemirror_mode": {
    "name": "ipython",
    "version": 3
   },
   "file_extension": ".py",
   "mimetype": "text/x-python",
   "name": "python",
   "nbconvert_exporter": "python",
   "pygments_lexer": "ipython3",
   "version": "3.11.9"
  }
 },
 "nbformat": 4,
 "nbformat_minor": 2
}

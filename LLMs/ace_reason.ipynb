{
 "cells": [
  {
   "cell_type": "code",
   "execution_count": 1,
   "id": "a202b9f7",
   "metadata": {},
   "outputs": [],
   "source": [
    "from types import SimpleNamespace\n",
    "\n",
    "import ipywidgets as widgets\n",
    "from IPython.display import clear_output, display\n",
    "from mlx_lm import generate, load\n",
    "from mlx_lm.chat import load, make_prompt_cache, make_sampler, stream_generate"
   ]
  },
  {
   "cell_type": "code",
   "execution_count": 2,
   "id": "e8d33c39",
   "metadata": {},
   "outputs": [],
   "source": [
    "# model_id = \"mlx-community/AceReason-Nemotron-14B-8bit\"\n",
    "model_id = \"mlx-community/AceReason-Nemotron-7B-8bit\""
   ]
  },
  {
   "cell_type": "code",
   "execution_count": 3,
   "id": "c4dc3f21",
   "metadata": {},
   "outputs": [],
   "source": [
    "# Create args namespace with custom values\n",
    "args = SimpleNamespace(\n",
    "    model=model_id,\n",
    "    adapter_path=None,\n",
    "    temp=0.7,\n",
    "    top_p=0.9,\n",
    "    seed=None,\n",
    "    max_kv_size=None,\n",
    "    max_tokens=2_000\n",
    ")"
   ]
  },
  {
   "cell_type": "code",
   "execution_count": 4,
   "id": "54067372",
   "metadata": {},
   "outputs": [
    {
     "data": {
      "application/vnd.jupyter.widget-view+json": {
       "model_id": "db284e5e62d94a00a215d8920c3f2fdd",
       "version_major": 2,
       "version_minor": 0
      },
      "text/plain": [
       "Fetching 8 files:   0%|          | 0/8 [00:00<?, ?it/s]"
      ]
     },
     "metadata": {},
     "output_type": "display_data"
    },
    {
     "name": "stderr",
     "output_type": "stream",
     "text": [
      "Xet Storage is enabled for this repo, but the 'hf_xet' package is not installed. Falling back to regular HTTP download. For better performance, install the package with: `pip install huggingface_hub[hf_xet]` or `pip install hf_xet`\n",
      "Xet Storage is enabled for this repo, but the 'hf_xet' package is not installed. Falling back to regular HTTP download. For better performance, install the package with: `pip install huggingface_hub[hf_xet]` or `pip install hf_xet`\n",
      "Xet Storage is enabled for this repo, but the 'hf_xet' package is not installed. Falling back to regular HTTP download. For better performance, install the package with: `pip install huggingface_hub[hf_xet]` or `pip install hf_xet`\n"
     ]
    },
    {
     "data": {
      "application/vnd.jupyter.widget-view+json": {
       "model_id": "531a5b4237ff45a09fd0d19b342dc2e2",
       "version_major": 2,
       "version_minor": 0
      },
      "text/plain": [
       "model.safetensors.index.json:   0%|          | 0.00/62.7k [00:00<?, ?B/s]"
      ]
     },
     "metadata": {},
     "output_type": "display_data"
    },
    {
     "data": {
      "application/vnd.jupyter.widget-view+json": {
       "model_id": "48b669fdec4342aa83946dba923fa6e5",
       "version_major": 2,
       "version_minor": 0
      },
      "text/plain": [
       "model-00001-of-00002.safetensors:   0%|          | 0.00/5.32G [00:00<?, ?B/s]"
      ]
     },
     "metadata": {},
     "output_type": "display_data"
    },
    {
     "data": {
      "application/vnd.jupyter.widget-view+json": {
       "model_id": "d065ce065db841b68e95541398fdc7e1",
       "version_major": 2,
       "version_minor": 0
      },
      "text/plain": [
       "tokenizer.json:   0%|          | 0.00/11.4M [00:00<?, ?B/s]"
      ]
     },
     "metadata": {},
     "output_type": "display_data"
    },
    {
     "data": {
      "application/vnd.jupyter.widget-view+json": {
       "model_id": "096500f5a3a74969a218114bcc36e265",
       "version_major": 2,
       "version_minor": 0
      },
      "text/plain": [
       "generation_config.json:   0%|          | 0.00/147 [00:00<?, ?B/s]"
      ]
     },
     "metadata": {},
     "output_type": "display_data"
    },
    {
     "data": {
      "application/vnd.jupyter.widget-view+json": {
       "model_id": "ba0a791fb23949798af1df03461ceda4",
       "version_major": 2,
       "version_minor": 0
      },
      "text/plain": [
       "model-00002-of-00002.safetensors:   0%|          | 0.00/2.78G [00:00<?, ?B/s]"
      ]
     },
     "metadata": {},
     "output_type": "display_data"
    },
    {
     "data": {
      "application/vnd.jupyter.widget-view+json": {
       "model_id": "07f9be9d773644d1b1e7a8fa64cd7a34",
       "version_major": 2,
       "version_minor": 0
      },
      "text/plain": [
       "tokenizer_config.json:   0%|          | 0.00/4.49k [00:00<?, ?B/s]"
      ]
     },
     "metadata": {},
     "output_type": "display_data"
    },
    {
     "data": {
      "application/vnd.jupyter.widget-view+json": {
       "model_id": "d574499d3e5e4fffbb68442d444d4e2d",
       "version_major": 2,
       "version_minor": 0
      },
      "text/plain": [
       "special_tokens_map.json:   0%|          | 0.00/485 [00:00<?, ?B/s]"
      ]
     },
     "metadata": {},
     "output_type": "display_data"
    },
    {
     "data": {
      "application/vnd.jupyter.widget-view+json": {
       "model_id": "b5ba146007dc4f8c899c8aecd582c343",
       "version_major": 2,
       "version_minor": 0
      },
      "text/plain": [
       "config.json:   0%|          | 0.00/940 [00:00<?, ?B/s]"
      ]
     },
     "metadata": {},
     "output_type": "display_data"
    }
   ],
   "source": [
    "model, tokenizer = load(\n",
    "    args.model,\n",
    "    adapter_path=args.adapter_path,\n",
    "    tokenizer_config={\"trust_remote_code\": True}\n",
    ")"
   ]
  },
  {
   "cell_type": "code",
   "execution_count": 5,
   "id": "a46c1d4a",
   "metadata": {},
   "outputs": [],
   "source": [
    "prompt = \"Explain in mathematical theoretical details hermite interpolation\""
   ]
  },
  {
   "cell_type": "code",
   "execution_count": 6,
   "id": "940815d2",
   "metadata": {},
   "outputs": [],
   "source": [
    "# messages = [{\"role\": \"user\", \"content\": prompt}]\n",
    "# prompt = tokenizer.apply_chat_template(messages, add_generation_prompt=True)"
   ]
  },
  {
   "cell_type": "code",
   "execution_count": 7,
   "id": "824494a1",
   "metadata": {},
   "outputs": [
    {
     "name": "stdout",
     "output_type": "stream",
     "text": [
      "==========\n",
      "Let's consider the Hermit interpolation for the function f(x) = e^x on the interval [0, 1] with nodes at x0 = 0 and x1 = 1. Find the error bound for the approximation at x = 0.5.\n",
      "\n",
      "Okay, so I need to figure out the error bound for the Hermite interpolation of f(x) = e^x on [0,1] with nodes at 0 and 1, and evaluate it at x=0.5. Hmm, let me recall what Hermite interpolation is.\n",
      "\n",
      "From what I remember, Hermite interpolation is a method where we have not only the function values at certain points (nodes) but also their derivatives. So, unlike the standard Lagrange interpolation which only uses the function values, Hermite interpolation uses both the function and its derivatives at each node. This usually gives a better approximation because it incorporates more information about the function's behavior.\n",
      "\n",
      "In this problem, the function is f(x) = e^x, and the interval is [0,1] with nodes at x0=0 and x1=1. So, we have two nodes, each with function values and first derivatives, I suppose. Wait, actually, the problem says \"hermite interpolation for the function f(x) = e^x on the interval [0,1] with nodes at x0=0 and x1=1.\" It doesn't specify whether it's using function values and first derivatives or higher. Hmm, maybe I need to clarify that.\n",
      "\n",
      "But typically, Hermite interpolation on two points with function values and first derivatives is the standard case. So, I think we can assume that at each node x0 and x1, we have both f(xi) and f’(xi) known. So, for our case, we have f(0) = e^0 = 1, f’(0) = e^0 = 1, f(1) = e^1 = e, and f’(1) = e^1 = e.\n",
      "\n",
      "So, we need to construct the Hermite interpolation polynomial H(x) that satisfies:\n",
      "\n",
      "H(0) = f(0) = 1,\n",
      "\n",
      "H’(0) = f’(0) = 1,\n",
      "\n",
      "H(1) = f(1) = e,\n",
      "\n",
      "H’(1) = f’(1) = e.\n",
      "\n",
      "And then, we need to find the error bound for |f(0.5) - H(0.5)|.\n",
      "\n",
      "Alright, so first, let me recall the error formula for Hermite interpolation. I think it's similar to the Lagrange error formula but involves higher derivatives. For Hermite interpolation, the error term is given by:\n",
      "\n",
      "f(x) - H(x) = (f^{(2n)}(ξ) / (2n)!) * product_{i=0}^{m} (x - xi)^{2} * something,\n",
      "\n",
      "Wait, maybe I need to be more precise. Let me think.\n",
      "\n",
      "In general, for Hermite interpolation, where we have nodes with multiplicities, the error term involves the (2n+1)-th derivative or something like that. Wait, let's see.\n",
      "\n",
      "Suppose we have n nodes, each with multiplicity 2 (i.e., function value and first derivative), then the total number of conditions is 2n, so the interpolating polynomial is of degree 2n - 1. The error term should involve the (2n)-th derivative, I think.\n",
      "\n",
      "In our case, we have two nodes, x0=0 and x1=1, each with function value and first derivative. So, n=2? Wait, no, n is the number of nodes. Wait, actually, the degree of the Hermite interpolation polynomial is 2m - 1 where m is the number of nodes if each node has function value and first derivative. Wait, let me check.\n",
      "\n",
      "Wait, no, actually, for m nodes, each with function value and first derivative, the Hermite interpolation polynomial has degree 2m - 1. So, in our case, m=2 nodes, so the polynomial is of degree 3.\n",
      "\n",
      "But wait, we have two nodes, 0 and 1, each with function value and first derivative, so total conditions are 2*(2)=4, so the interpolating polynomial is of degree 3. So, yes, H(x) is a cubic polynomial.\n",
      "\n",
      "So, the error term for Hermite interpolation is given by:\n",
      "\n",
      "f(x) - H(x) = (f^{(4)}(ξ) / 4!) * (x - x0)^2 (x - x1)^2,\n",
      "\n",
      "Wait, is that correct? Wait, let me recall.\n",
      "\n",
      "In general, for Hermite interpolation with m nodes, each with multiplicity 2 (i.e., function value and first derivative), the error term is:\n",
      "\n",
      "f(x) - H(x) = (f^{(2m)}(ξ) / (2m)!) * product_{i=0}^{m-1} (x - xi)^2.\n",
      "\n",
      "But in our case, m=2 nodes, so 2m=4, so the error term involves the 4th derivative.\n",
      "\n",
      "But wait, let me verify.\n",
      "\n",
      "Wait, another way: the standard Lagrange error for interpolation is f(x) - P_n(x) = (f^{(n+1)}(ξ) / (n+1)!) * product_{i=0}^n (x - xi).\n",
      "\n",
      "For Hermite interpolation, since we have more conditions, the error term involves higher derivatives. Specifically, if we have m nodes, each with function value and first derivative, so total 2m conditions, leading to a polynomial of degree 2m - 1. Then, the error term should involve the (2m)-th derivative.\n",
      "\n",
      "So, in our case, m=2, so 2m=4, so the error term involves the 4th derivative.\n",
      "\n",
      "Therefore, the error is:\n",
      "\n",
      "f(x) - H(x) = (f^{(4)}(ξ) / 4!) * (x - x0)^2 (x - x1)^2,\n",
      "\n",
      "But wait, actually, I think it's (x - x0)^2 (x - x1)^2 times something else? Or is it just that product?\n",
      "\n",
      "Wait, let me think about the general formula.\n",
      "\n",
      "In general, for Hermite interpolation, the error term is given by:\n",
      "\n",
      "f(x) - H(x) = \\frac{f^{(2m)}(ξ)}{(2m)!} \\cdot \\left( \\prod_{i=0}^{m-1} (x - x_i)^2 \\right) \\cdot \\prod_{i=0}^{m-1} (x_i - x_j) \\quad \\text{?}\n",
      "\n",
      "Wait, no, maybe not. Maybe it's just:\n",
      "\n",
      "f(x) - H(x) = \\frac{f^{(2m)}(ξ)}{(2m)!} \\cdot \\left( \\prod_{i=0}^{m-1} (x - x_i)^{k_i} } \\right),\n",
      "\n",
      "where k_i is the multiplicity at each node. In our case, each node has multiplicity 2, so k_i=2 for each i=0,1.\n",
      "\n",
      "But wait, m=2 nodes, each with multiplicity 2, so total degree is 3, as we have a cubic polynomial.\n",
      "\n",
      "Wait, perhaps the formula is:\n",
      "\n",
      "f(x) - H(x) = \\frac{f^{(2m)}(ξ)}{(2m)!} \\cdot \\prod_{i=0}^{m-1} (x - x_i)^{k_i}},\n",
      "\n",
      "But in our case, m=2, 2m=4, so f^{(4)}(ξ)/4! times (x - x0)^2 (x - x1)^2.\n",
      "\n",
      "But wait, let me check a reference in my mind. I recall that for Hermite interpolation with two nodes, each with function value and first derivative, the error term is:\n",
      "\n",
      "f(x) - H(x) = \\frac{f^{(4)}(ξ)}{4!} (x - x0)^2 (x - x1)^2,\n",
      "\n",
      "Yes, that seems right because we have 4 conditions (function at x0, derivative at x0, function at x1, derivative at x1), so the interpolating polynomial is of degree 3, and the error involves the 4th derivative.\n",
      "\n",
      "So, in our case, x0=0, x1=1, so the error term is:\n",
      "\n",
      "f(x) - H(x) = \\frac{f^{(4)}(ξ)}{4!} x^2 (x - 1)^2,\n",
      "\n",
      "for some ξ in (0,1).\n",
      "\n",
      "Therefore, to find the error bound at x=0.5, we need to find the maximum of |f(x) - H(x)| at x=0.5, which would be:\n",
      "\n",
      "|f(0.5) - H(0.5)| ≤ \\frac{M}{4!} |x^2 (x - 1)^2|,\n",
      "\n",
      "where M is the maximum of |f^{(4)}(ξ)| on [0,1].\n",
      "\n",
      "So, first, let's compute f^{(4)}(x). Since f(x)=e^x, all derivatives are e^x. So, f^{(4)}(x)=e^x. Therefore, on [0,1], the maximum of |f^{(4)}(ξ)| is e^1 = e, since e^x is increasing.\n",
      "\n",
      "So, M = e.\n",
      "\n",
      "Next, we need to evaluate |x^2 (x - 1)^2| at x=0.5.\n",
      "\n",
      "Compute x=0.5:\n",
      "\n",
      "x^2 = (0.5)^2 = 0.25,\n",
      "\n",
      "(x - 1)^2 = (-0.5)^2 = 0.25,\n",
      "\n",
      "So, the product is 0.25 * 0.25 = 0.0625.\n",
      "\n",
      "Therefore, |x^2 (x - 1)^2| at x=0.5 is 0.0625.\n",
      "\n",
      "Putting it all together, the error bound is:\n",
      "\n",
      "|f(0.5) - H(0.5)| ≤ (e / 24) * 0.0625.\n",
      "\n",
      "Compute that:\n",
      "\n",
      "First, 0.0625 is 1/16, and 24 is 24.\n",
      "\n",
      "So, (e / 24) * (1/16) = e / (24 * 16) = e / 384.\n",
      "\n",
      "Simplify 384: 384 divided by 16 is 24, so yeah, 24*16=384.\n",
      "\n",
      "So, the error bound is e / 384.\n",
      "\n",
      "But let me double-check the error term formula because sometimes the product term might have more factors.\n",
      "\n",
      "Wait, another thought: the general formula for Hermite interpolation error when each node has multiplicity 2 is:\n",
      "\n",
      "f(x) - H(x) = \\frac{f^{(2m)}(ξ)}{(2m)!} \\cdot \\left( \\prod_{i=0}^{m-1} (x - x_i)^2 \\right) \\cdot \\prod_{0 ≤ i < j ≤ m-1} (x_j - x_i)\n",
      "\n",
      "Wait, no, that doesn't seem right. Wait, maybe I'm confusing with the barycentric formula.\n",
      "\n",
      "Alternatively, perhaps the error term is:\n",
      "\n",
      "f(x) - H(x) = \\frac{f^{(2m)}(ξ)}{(2m)!} \\cdot \\left( \\prod_{i=0}^{m-1} (x -\n",
      "==========\n",
      "Prompt: 10 tokens, 48.036 tokens-per-sec\n",
      "Generation: 2500 tokens, 16.595 tokens-per-sec\n",
      "Peak memory: 8.302 GB\n"
     ]
    },
    {
     "data": {
      "text/plain": [
       "'Let\\'s consider the Hermit interpolation for the function f(x) = e^x on the interval [0, 1] with nodes at x0 = 0 and x1 = 1. Find the error bound for the approximation at x = 0.5.\\n\\nOkay, so I need to figure out the error bound for the Hermite interpolation of f(x) = e^x on [0,1] with nodes at 0 and 1, and evaluate it at x=0.5. Hmm, let me recall what Hermite interpolation is.\\n\\nFrom what I remember, Hermite interpolation is a method where we have not only the function values at certain points (nodes) but also their derivatives. So, unlike the standard Lagrange interpolation which only uses the function values, Hermite interpolation uses both the function and its derivatives at each node. This usually gives a better approximation because it incorporates more information about the function\\'s behavior.\\n\\nIn this problem, the function is f(x) = e^x, and the interval is [0,1] with nodes at x0=0 and x1=1. So, we have two nodes, each with function values and first derivatives, I suppose. Wait, actually, the problem says \"hermite interpolation for the function f(x) = e^x on the interval [0,1] with nodes at x0=0 and x1=1.\" It doesn\\'t specify whether it\\'s using function values and first derivatives or higher. Hmm, maybe I need to clarify that.\\n\\nBut typically, Hermite interpolation on two points with function values and first derivatives is the standard case. So, I think we can assume that at each node x0 and x1, we have both f(xi) and f’(xi) known. So, for our case, we have f(0) = e^0 = 1, f’(0) = e^0 = 1, f(1) = e^1 = e, and f’(1) = e^1 = e.\\n\\nSo, we need to construct the Hermite interpolation polynomial H(x) that satisfies:\\n\\nH(0) = f(0) = 1,\\n\\nH’(0) = f’(0) = 1,\\n\\nH(1) = f(1) = e,\\n\\nH’(1) = f’(1) = e.\\n\\nAnd then, we need to find the error bound for |f(0.5) - H(0.5)|.\\n\\nAlright, so first, let me recall the error formula for Hermite interpolation. I think it\\'s similar to the Lagrange error formula but involves higher derivatives. For Hermite interpolation, the error term is given by:\\n\\nf(x) - H(x) = (f^{(2n)}(ξ) / (2n)!) * product_{i=0}^{m} (x - xi)^{2} * something,\\n\\nWait, maybe I need to be more precise. Let me think.\\n\\nIn general, for Hermite interpolation, where we have nodes with multiplicities, the error term involves the (2n+1)-th derivative or something like that. Wait, let\\'s see.\\n\\nSuppose we have n nodes, each with multiplicity 2 (i.e., function value and first derivative), then the total number of conditions is 2n, so the interpolating polynomial is of degree 2n - 1. The error term should involve the (2n)-th derivative, I think.\\n\\nIn our case, we have two nodes, x0=0 and x1=1, each with function value and first derivative. So, n=2? Wait, no, n is the number of nodes. Wait, actually, the degree of the Hermite interpolation polynomial is 2m - 1 where m is the number of nodes if each node has function value and first derivative. Wait, let me check.\\n\\nWait, no, actually, for m nodes, each with function value and first derivative, the Hermite interpolation polynomial has degree 2m - 1. So, in our case, m=2 nodes, so the polynomial is of degree 3.\\n\\nBut wait, we have two nodes, 0 and 1, each with function value and first derivative, so total conditions are 2*(2)=4, so the interpolating polynomial is of degree 3. So, yes, H(x) is a cubic polynomial.\\n\\nSo, the error term for Hermite interpolation is given by:\\n\\nf(x) - H(x) = (f^{(4)}(ξ) / 4!) * (x - x0)^2 (x - x1)^2,\\n\\nWait, is that correct? Wait, let me recall.\\n\\nIn general, for Hermite interpolation with m nodes, each with multiplicity 2 (i.e., function value and first derivative), the error term is:\\n\\nf(x) - H(x) = (f^{(2m)}(ξ) / (2m)!) * product_{i=0}^{m-1} (x - xi)^2.\\n\\nBut in our case, m=2 nodes, so 2m=4, so the error term involves the 4th derivative.\\n\\nBut wait, let me verify.\\n\\nWait, another way: the standard Lagrange error for interpolation is f(x) - P_n(x) = (f^{(n+1)}(ξ) / (n+1)!) * product_{i=0}^n (x - xi).\\n\\nFor Hermite interpolation, since we have more conditions, the error term involves higher derivatives. Specifically, if we have m nodes, each with function value and first derivative, so total 2m conditions, leading to a polynomial of degree 2m - 1. Then, the error term should involve the (2m)-th derivative.\\n\\nSo, in our case, m=2, so 2m=4, so the error term involves the 4th derivative.\\n\\nTherefore, the error is:\\n\\nf(x) - H(x) = (f^{(4)}(ξ) / 4!) * (x - x0)^2 (x - x1)^2,\\n\\nBut wait, actually, I think it\\'s (x - x0)^2 (x - x1)^2 times something else? Or is it just that product?\\n\\nWait, let me think about the general formula.\\n\\nIn general, for Hermite interpolation, the error term is given by:\\n\\nf(x) - H(x) = \\\\frac{f^{(2m)}(ξ)}{(2m)!} \\\\cdot \\\\left( \\\\prod_{i=0}^{m-1} (x - x_i)^2 \\\\right) \\\\cdot \\\\prod_{i=0}^{m-1} (x_i - x_j) \\\\quad \\\\text{?}\\n\\nWait, no, maybe not. Maybe it\\'s just:\\n\\nf(x) - H(x) = \\\\frac{f^{(2m)}(ξ)}{(2m)!} \\\\cdot \\\\left( \\\\prod_{i=0}^{m-1} (x - x_i)^{k_i} } \\\\right),\\n\\nwhere k_i is the multiplicity at each node. In our case, each node has multiplicity 2, so k_i=2 for each i=0,1.\\n\\nBut wait, m=2 nodes, each with multiplicity 2, so total degree is 3, as we have a cubic polynomial.\\n\\nWait, perhaps the formula is:\\n\\nf(x) - H(x) = \\\\frac{f^{(2m)}(ξ)}{(2m)!} \\\\cdot \\\\prod_{i=0}^{m-1} (x - x_i)^{k_i}},\\n\\nBut in our case, m=2, 2m=4, so f^{(4)}(ξ)/4! times (x - x0)^2 (x - x1)^2.\\n\\nBut wait, let me check a reference in my mind. I recall that for Hermite interpolation with two nodes, each with function value and first derivative, the error term is:\\n\\nf(x) - H(x) = \\\\frac{f^{(4)}(ξ)}{4!} (x - x0)^2 (x - x1)^2,\\n\\nYes, that seems right because we have 4 conditions (function at x0, derivative at x0, function at x1, derivative at x1), so the interpolating polynomial is of degree 3, and the error involves the 4th derivative.\\n\\nSo, in our case, x0=0, x1=1, so the error term is:\\n\\nf(x) - H(x) = \\\\frac{f^{(4)}(ξ)}{4!} x^2 (x - 1)^2,\\n\\nfor some ξ in (0,1).\\n\\nTherefore, to find the error bound at x=0.5, we need to find the maximum of |f(x) - H(x)| at x=0.5, which would be:\\n\\n|f(0.5) - H(0.5)| ≤ \\\\frac{M}{4!} |x^2 (x - 1)^2|,\\n\\nwhere M is the maximum of |f^{(4)}(ξ)| on [0,1].\\n\\nSo, first, let\\'s compute f^{(4)}(x). Since f(x)=e^x, all derivatives are e^x. So, f^{(4)}(x)=e^x. Therefore, on [0,1], the maximum of |f^{(4)}(ξ)| is e^1 = e, since e^x is increasing.\\n\\nSo, M = e.\\n\\nNext, we need to evaluate |x^2 (x - 1)^2| at x=0.5.\\n\\nCompute x=0.5:\\n\\nx^2 = (0.5)^2 = 0.25,\\n\\n(x - 1)^2 = (-0.5)^2 = 0.25,\\n\\nSo, the product is 0.25 * 0.25 = 0.0625.\\n\\nTherefore, |x^2 (x - 1)^2| at x=0.5 is 0.0625.\\n\\nPutting it all together, the error bound is:\\n\\n|f(0.5) - H(0.5)| ≤ (e / 24) * 0.0625.\\n\\nCompute that:\\n\\nFirst, 0.0625 is 1/16, and 24 is 24.\\n\\nSo, (e / 24) * (1/16) = e / (24 * 16) = e / 384.\\n\\nSimplify 384: 384 divided by 16 is 24, so yeah, 24*16=384.\\n\\nSo, the error bound is e / 384.\\n\\nBut let me double-check the error term formula because sometimes the product term might have more factors.\\n\\nWait, another thought: the general formula for Hermite interpolation error when each node has multiplicity 2 is:\\n\\nf(x) - H(x) = \\\\frac{f^{(2m)}(ξ)}{(2m)!} \\\\cdot \\\\left( \\\\prod_{i=0}^{m-1} (x - x_i)^2 \\\\right) \\\\cdot \\\\prod_{0 ≤ i < j ≤ m-1} (x_j - x_i)\\n\\nWait, no, that doesn\\'t seem right. Wait, maybe I\\'m confusing with the barycentric formula.\\n\\nAlternatively, perhaps the error term is:\\n\\nf(x) - H(x) = \\\\frac{f^{(2m)}(ξ)}{(2m)!} \\\\cdot \\\\left( \\\\prod_{i=0}^{m-1} (x -'"
      ]
     },
     "execution_count": 7,
     "metadata": {},
     "output_type": "execute_result"
    }
   ],
   "source": [
    "generate(model, tokenizer, prompt=prompt, verbose=True, max_tokens=2500)"
   ]
  },
  {
   "cell_type": "code",
   "execution_count": null,
   "id": "82e40b9f",
   "metadata": {},
   "outputs": [],
   "source": [
    "prompt_cache = make_prompt_cache(model, args.max_kv_size)"
   ]
  },
  {
   "cell_type": "code",
   "execution_count": null,
   "id": "c01cec7b",
   "metadata": {},
   "outputs": [],
   "source": [
    "def get_response(query):\n",
    "    response_text = \"\"\n",
    "    for response in stream_generate(\n",
    "        model,\n",
    "        tokenizer,\n",
    "        tokenizer.apply_chat_template([{\"role\": \"user\", \"content\": query}], add_generation_prompt=True),\n",
    "        max_tokens=args.max_tokens,\n",
    "        sampler=make_sampler(args.temp, args.top_p),\n",
    "        prompt_cache=prompt_cache\n",
    "    ):\n",
    "        print(response.text, end='', flush=True)\n",
    "        response_text += response.text\n",
    "\n",
    "    return response_text"
   ]
  },
  {
   "cell_type": "code",
   "execution_count": null,
   "id": "22659175",
   "metadata": {},
   "outputs": [],
   "source": [
    "def chat_interface():\n",
    "    # Textarea for better paste support\n",
    "    text_input = widgets.Textarea(\n",
    "        placeholder='Type or paste your question here...',\n",
    "        description='Query:',\n",
    "        layout=widgets.Layout(\n",
    "            width='50%',\n",
    "            height='100px'\n",
    "        )\n",
    "    )\n",
    "    \n",
    "    # Add a Submit button since Textarea doesn't have on_submit\n",
    "    submit_button = widgets.Button(\n",
    "        description='Submit',\n",
    "        layout=widgets.Layout(width='100px')\n",
    "    )\n",
    "    \n",
    "    output_area = widgets.Output()\n",
    "    conversation_history = []\n",
    "    \n",
    "    def on_submit(b):\n",
    "        with output_area:\n",
    "            query = text_input.value\n",
    "            if not query.strip():\n",
    "                return\n",
    "                \n",
    "            clear_output()\n",
    "            \n",
    "            for _, exchange in enumerate(conversation_history, 1):\n",
    "                print(f\"\\nQ: {exchange['Q']}\\n\")\n",
    "                print(f\"A: {exchange['A']}\\n\")\n",
    "                print(\"-\" * 50)\n",
    "            \n",
    "            print(f\"\\nQ: {query}\\n\")\n",
    "            print(\"A: \", end='', flush=True)\n",
    "            response_text = get_response(query)\n",
    "            print(\"\\n\" + \"-\" * 50 + \"\\n\")\n",
    "            conversation_history.append({\"Q\": query, \"A\": response_text})\n",
    "            \n",
    "        text_input.value = ''\n",
    "    \n",
    "    submit_button.on_click(on_submit)\n",
    "    \n",
    "    # Create input container with textarea and button side by side\n",
    "    input_container = widgets.HBox([text_input, submit_button])\n",
    "    \n",
    "    # Stack output above input\n",
    "    vbox = widgets.VBox([output_area, input_container])\n",
    "    display(vbox)"
   ]
  },
  {
   "cell_type": "code",
   "execution_count": null,
   "id": "0da59e24",
   "metadata": {},
   "outputs": [],
   "source": [
    "chat_interface()"
   ]
  },
  {
   "cell_type": "code",
   "execution_count": null,
   "id": "c1618536",
   "metadata": {},
   "outputs": [],
   "source": []
  }
 ],
 "metadata": {
  "kernelspec": {
   "display_name": "ml",
   "language": "python",
   "name": "python3"
  },
  "language_info": {
   "codemirror_mode": {
    "name": "ipython",
    "version": 3
   },
   "file_extension": ".py",
   "mimetype": "text/x-python",
   "name": "python",
   "nbconvert_exporter": "python",
   "pygments_lexer": "ipython3",
   "version": "3.11.9"
  }
 },
 "nbformat": 4,
 "nbformat_minor": 5
}

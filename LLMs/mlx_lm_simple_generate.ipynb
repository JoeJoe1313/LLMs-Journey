{
 "cells": [
  {
   "cell_type": "code",
   "execution_count": 1,
   "metadata": {},
   "outputs": [],
   "source": [
    "from mlx_lm import generate, load, stream_generate"
   ]
  },
  {
   "cell_type": "code",
   "execution_count": 2,
   "metadata": {},
   "outputs": [
    {
     "data": {
      "application/vnd.jupyter.widget-view+json": {
       "model_id": "7333addf38eb427bada6420874cf5d1a",
       "version_major": 2,
       "version_minor": 0
      },
      "text/plain": [
       "Fetching 7 files:   0%|          | 0/7 [00:00<?, ?it/s]"
      ]
     },
     "metadata": {},
     "output_type": "display_data"
    }
   ],
   "source": [
    "model, tokenizer = load(\"mlx-community/Mistral-7B-Instruct-v0.3-4bit\")"
   ]
  },
  {
   "cell_type": "markdown",
   "metadata": {},
   "source": [
    "Generation"
   ]
  },
  {
   "cell_type": "code",
   "execution_count": 3,
   "metadata": {},
   "outputs": [],
   "source": [
    "prompt = \"Write a story about Einstein\""
   ]
  },
  {
   "cell_type": "code",
   "execution_count": 4,
   "metadata": {},
   "outputs": [],
   "source": [
    "messages = [{\"role\": \"user\", \"content\": prompt}]\n",
    "prompt = tokenizer.apply_chat_template(messages, add_generation_prompt=True)"
   ]
  },
  {
   "cell_type": "code",
   "execution_count": 5,
   "metadata": {},
   "outputs": [
    {
     "name": "stdout",
     "output_type": "stream",
     "text": [
      "==========\n",
      "Title: A Brush with Genius: The Encounter of the Young Artist and Albert Einstein\n",
      "\n",
      "In the quaint town of Bern, Switzerland, nestled amidst the picturesque Alps, lived a young, aspiring artist named Max. Max was a peculiar child, not because of his artistic talents, but because of his insatiable curiosity and an unusual friend.\n",
      "\n",
      "Max's friend was none other than Albert Einstein, the renowned physicist who would one day change the world with his theory of relativity. At the time, however, Einstein was just a humble patent clerk, struggling to make ends meet.\n",
      "\n",
      "Max and Einstein shared a unique bond. Every day, Max would visit Einstein at the patent office, where Einstein would explain his complex theories and equations to Max, who would then attempt to illustrate them in his art. Max found beauty in Einstein's work, and Einstein found clarity in Max's interpretation.\n",
      "\n",
      "One day, as Max was sketching Einstein's latest equation, he found himself stuck. The equation was complex, and Max struggled to capture its essence. Frustrated, he looked up at Einstein, who was engrossed in his work.\n",
      "\n",
      "\"Albert,\"\n",
      "==========\n",
      "Prompt: 10 tokens, 87.232 tokens-per-sec\n",
      "Generation: 256 tokens, 30.685 tokens-per-sec\n",
      "Peak memory: 4.153 GB\n"
     ]
    }
   ],
   "source": [
    "text = generate(model, tokenizer, prompt=prompt, verbose=True)"
   ]
  },
  {
   "cell_type": "markdown",
   "metadata": {},
   "source": [
    "Streaming Generation"
   ]
  },
  {
   "cell_type": "code",
   "execution_count": 6,
   "metadata": {},
   "outputs": [
    {
     "name": "stdout",
     "output_type": "stream",
     "text": [
      "Title: A Brush with Genius: The Encounter of the Young Artist and Albert Einstein\n",
      "\n",
      "In the quaint town of Bern, Switzerland, nestled amidst the picturesque Alps, lived a young, aspiring artist named Max. Max was a peculiar child, not because of his artistic talents, but because of his insatiable curiosity and an unusual friend.\n",
      "\n",
      "Max's friend was none other than Albert Einstein, the renowned physicist who would one day change the world with his theory of relativity. At the time, however, Einstein was just a humble patent clerk, struggling to make ends meet.\n",
      "\n",
      "Max and Einstein shared a unique bond. Every day, Max would visit Einstein at the patent office, where Einstein would explain his complex theories and equations to Max, who would then attempt to illustrate them in his art. Max found beauty in Einstein's work, and Einstein found clarity in Max's interpretation.\n",
      "\n",
      "One day, as Max was sketching Einstein's latest equation, he found himself stuck. The equation was complex, and Max struggled to capture its essence. Frustrated, he looked up at Einstein, who was engrossed in his work.\n",
      "\n",
      "\"Albert,\" Max said, \"I can't seem to get it right. This equation is too complex for my art.\"\n",
      "\n",
      "Einstein looked up from his work, a warm smile playing on his lips. \"Max,\" he said, \"art is not about replicating what you see. It's about expressing what you feel. Your art is not a mirror; it's a window. Let your feelings guide you.\"\n",
      "\n",
      "Inspired, Max returned to his sketch. He didn't try to replicate the equation; instead, he let his feelings guide his hand. The result was a beautiful, abstract piece that captured the essence of Einstein's equation.\n",
      "\n",
      "Einstein was delighted. \"Max,\" he said, \"this is not just a sketch. It's a masterpiece. You've captured the spirit of my work.\"\n",
      "\n",
      "From that day forward, Max's art evolved. He no longer tried to replicate the world around him; instead, he expressed his feelings and interpretations. And Einstein, he continued to inspire the world with his groundbreaking theories.\n",
      "\n",
      "Their friendship was a testament to the power of understanding and acceptance. They were two minds, vastly different yet deeply"
     ]
    }
   ],
   "source": [
    "prompt = \"Write a story about Einstein\"\n",
    "\n",
    "messages = [{\"role\": \"user\", \"content\": prompt}]\n",
    "prompt = tokenizer.apply_chat_template(messages, add_generation_prompt=True)\n",
    "\n",
    "for response in stream_generate(model, tokenizer, prompt, max_tokens=512):\n",
    "    print(response.text, end=\"\", flush=True)"
   ]
  },
  {
   "cell_type": "code",
   "execution_count": null,
   "metadata": {},
   "outputs": [],
   "source": []
  }
 ],
 "metadata": {
  "kernelspec": {
   "display_name": "imp",
   "language": "python",
   "name": "python3"
  },
  "language_info": {
   "codemirror_mode": {
    "name": "ipython",
    "version": 3
   },
   "file_extension": ".py",
   "mimetype": "text/x-python",
   "name": "python",
   "nbconvert_exporter": "python",
   "pygments_lexer": "ipython3",
   "version": "3.9.17"
  }
 },
 "nbformat": 4,
 "nbformat_minor": 2
}

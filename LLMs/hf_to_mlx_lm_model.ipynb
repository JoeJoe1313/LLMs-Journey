{
 "cells": [
  {
   "cell_type": "code",
   "execution_count": 1,
   "metadata": {},
   "outputs": [],
   "source": [
    "from mlx_lm import convert"
   ]
  },
  {
   "cell_type": "code",
   "execution_count": 2,
   "metadata": {},
   "outputs": [],
   "source": [
    "repo = \"Qwen/Qwen2.5-Math-7B-Instruct\"\n",
    "upload_repo = \"mlx-community/Qwen2.5-Math-7B-Instruct\""
   ]
  },
  {
   "cell_type": "code",
   "execution_count": 3,
   "metadata": {},
   "outputs": [
    {
     "name": "stdout",
     "output_type": "stream",
     "text": [
      "[INFO] Loading\n"
     ]
    },
    {
     "data": {
      "application/vnd.jupyter.widget-view+json": {
       "model_id": "1891af98aba54e61b8bfe1ee6b7f6017",
       "version_major": 2,
       "version_minor": 0
      },
      "text/plain": [
       "Fetching 11 files:   0%|          | 0/11 [00:00<?, ?it/s]"
      ]
     },
     "metadata": {},
     "output_type": "display_data"
    },
    {
     "name": "stderr",
     "output_type": "stream",
     "text": [
      "Repo created: https://huggingface.co/mlx-community/Qwen2.5-Math-7B-Instruct\n",
      "Found 12 candidate files to upload\n"
     ]
    },
    {
     "data": {
      "application/vnd.jupyter.widget-view+json": {
       "model_id": "12237fa09e754607b3ced83ef91383fe",
       "version_major": 2,
       "version_minor": 0
      },
      "text/plain": [
       "Recovering from metadata files:   0%|          | 0/12 [00:00<?, ?it/s]"
      ]
     },
     "metadata": {},
     "output_type": "display_data"
    },
    {
     "name": "stdout",
     "output_type": "stream",
     "text": [
      "\n",
      "\n",
      "\n",
      "---------- 2025-03-03 02:01:30 (0:00:00) ----------\n",
      "Files:   hashed 5/12 (10.3K/15.2G) | pre-uploaded: 0/0 (0.0/15.2G) (+12 unsure) | committed: 0/12 (0.0/15.2G) | ignored: 0\n",
      "Workers: hashing: 9 | get upload mode: 1 | pre-uploading: 0 | committing: 0 | waiting: 0\n",
      "---------------------------------------------------\n"
     ]
    },
    {
     "data": {
      "application/vnd.jupyter.widget-view+json": {
       "model_id": "c636b43054844c08a059ee828b9bce39",
       "version_major": 2,
       "version_minor": 0
      },
      "text/plain": [
       "tokenizer.json:   0%|          | 0.00/11.4M [00:00<?, ?B/s]"
      ]
     },
     "metadata": {},
     "output_type": "display_data"
    },
    {
     "data": {
      "application/vnd.jupyter.widget-view+json": {
       "model_id": "9f6c58947e4f49f5a3978518e844b1e5",
       "version_major": 2,
       "version_minor": 0
      },
      "text/plain": [
       "model-00003-of-00003.safetensors:   0%|          | 0.00/4.62G [00:00<?, ?B/s]"
      ]
     },
     "metadata": {},
     "output_type": "display_data"
    },
    {
     "data": {
      "application/vnd.jupyter.widget-view+json": {
       "model_id": "4abef5f3557b45ba91962c0c0692ec12",
       "version_major": 2,
       "version_minor": 0
      },
      "text/plain": [
       "model-00001-of-00003.safetensors:   0%|          | 0.00/5.34G [00:00<?, ?B/s]"
      ]
     },
     "metadata": {},
     "output_type": "display_data"
    },
    {
     "data": {
      "application/vnd.jupyter.widget-view+json": {
       "model_id": "ac1985f37ced45ab9d71fcb42b8b37ea",
       "version_major": 2,
       "version_minor": 0
      },
      "text/plain": [
       "model-00002-of-00003.safetensors:   0%|          | 0.00/5.26G [00:00<?, ?B/s]"
      ]
     },
     "metadata": {},
     "output_type": "display_data"
    },
    {
     "name": "stdout",
     "output_type": "stream",
     "text": [
      "\u001b[K\u001b[F\n",
      "---------- 2025-03-03 02:02:30 (0:01:00) ----------\n",
      "Files:   hashed 12/12 (15.2G/15.2G) | pre-uploaded: 1/4 (11.4M/15.2G) | committed: 0/12 (0.0/15.2G) | ignored: 0\n",
      "Workers: hashing: 0 | get upload mode: 0 | pre-uploading: 3 | committing: 0 | waiting: 7\n",
      "---------------------------------------------------\n",
      "\u001b[K\u001b[F                       \n",
      "---------- 2025-03-03 02:03:30 (0:02:00) ----------\n",
      "Files:   hashed 12/12 (15.2G/15.2G) | pre-uploaded: 1/4 (11.4M/15.2G) | committed: 0/12 (0.0/15.2G) | ignored: 0\n",
      "Workers: hashing: 0 | get upload mode: 0 | pre-uploading: 3 | committing: 0 | waiting: 7\n",
      "---------------------------------------------------\n",
      "\u001b[K\u001b[F                       \n",
      "---------- 2025-03-03 02:04:30 (0:03:00) ----------\n",
      "Files:   hashed 12/12 (15.2G/15.2G) | pre-uploaded: 1/4 (11.4M/15.2G) | committed: 0/12 (0.0/15.2G) | ignored: 0\n",
      "Workers: hashing: 0 | get upload mode: 0 | pre-uploading: 3 | committing: 0 | waiting: 7\n",
      "---------------------------------------------------\n",
      "\u001b[K\u001b[F                       \n",
      "---------- 2025-03-03 02:05:30 (0:04:00) ----------\n",
      "Files:   hashed 12/12 (15.2G/15.2G) | pre-uploaded: 1/4 (11.4M/15.2G) | committed: 0/12 (0.0/15.2G) | ignored: 0\n",
      "Workers: hashing: 0 | get upload mode: 0 | pre-uploading: 3 | committing: 0 | waiting: 7\n",
      "---------------------------------------------------\n",
      "\u001b[K\u001b[F                       \n",
      "---------- 2025-03-03 02:06:31 (0:05:01) ----------\n",
      "Files:   hashed 12/12 (15.2G/15.2G) | pre-uploaded: 1/4 (11.4M/15.2G) | committed: 0/12 (0.0/15.2G) | ignored: 0\n",
      "Workers: hashing: 0 | get upload mode: 0 | pre-uploading: 3 | committing: 0 | waiting: 7\n",
      "---------------------------------------------------\n",
      "\u001b[K\u001b[F                       \n",
      "---------- 2025-03-03 02:07:31 (0:06:01) ----------\n",
      "Files:   hashed 12/12 (15.2G/15.2G) | pre-uploaded: 1/4 (11.4M/15.2G) | committed: 0/12 (0.0/15.2G) | ignored: 0\n",
      "Workers: hashing: 0 | get upload mode: 0 | pre-uploading: 3 | committing: 0 | waiting: 7\n",
      "---------------------------------------------------\n",
      "\u001b[K\u001b[F                       \n",
      "---------- 2025-03-03 02:08:31 (0:07:01) ----------\n",
      "Files:   hashed 12/12 (15.2G/15.2G) | pre-uploaded: 1/4 (11.4M/15.2G) | committed: 0/12 (0.0/15.2G) | ignored: 0\n",
      "Workers: hashing: 0 | get upload mode: 0 | pre-uploading: 3 | committing: 0 | waiting: 7\n",
      "---------------------------------------------------\n",
      "\u001b[K\u001b[F                       \n",
      "---------- 2025-03-03 02:09:31 (0:08:01) ----------\n",
      "Files:   hashed 12/12 (15.2G/15.2G) | pre-uploaded: 1/4 (11.4M/15.2G) | committed: 0/12 (0.0/15.2G) | ignored: 0\n",
      "Workers: hashing: 0 | get upload mode: 0 | pre-uploading: 3 | committing: 0 | waiting: 7\n",
      "---------------------------------------------------\n",
      "\u001b[K\u001b[F                       \n",
      "---------- 2025-03-03 02:10:32 (0:09:02) ----------\n",
      "Files:   hashed 12/12 (15.2G/15.2G) | pre-uploaded: 1/4 (11.4M/15.2G) | committed: 0/12 (0.0/15.2G) | ignored: 0\n",
      "Workers: hashing: 0 | get upload mode: 0 | pre-uploading: 3 | committing: 0 | waiting: 7\n",
      "---------------------------------------------------\n",
      "\u001b[K\u001b[F                       \n",
      "---------- 2025-03-03 02:11:32 (0:10:02) ----------\n",
      "Files:   hashed 12/12 (15.2G/15.2G) | pre-uploaded: 1/4 (11.4M/15.2G) | committed: 0/12 (0.0/15.2G) | ignored: 0\n",
      "Workers: hashing: 0 | get upload mode: 0 | pre-uploading: 3 | committing: 0 | waiting: 7\n",
      "---------------------------------------------------\n",
      "\u001b[K\u001b[F                       \n",
      "---------- 2025-03-03 02:12:32 (0:11:02) ----------\n",
      "Files:   hashed 12/12 (15.2G/15.2G) | pre-uploaded: 2/4 (4.6G/15.2G) | committed: 0/12 (0.0/15.2G) | ignored: 0\n",
      "Workers: hashing: 0 | get upload mode: 0 | pre-uploading: 2 | committing: 0 | waiting: 8\n",
      "---------------------------------------------------\n",
      "\u001b[K\u001b[F                       \n",
      "---------- 2025-03-03 02:13:32 (0:12:02) ----------\n",
      "Files:   hashed 12/12 (15.2G/15.2G) | pre-uploaded: 3/4 (9.9G/15.2G) | committed: 0/12 (0.0/15.2G) | ignored: 0\n",
      "Workers: hashing: 0 | get upload mode: 0 | pre-uploading: 1 | committing: 0 | waiting: 9\n",
      "---------------------------------------------------\n",
      "\u001b[K\u001b[F                       \n",
      "---------- 2025-03-03 02:14:33 (0:13:02) ----------\n",
      "Files:   hashed 12/12 (15.2G/15.2G) | pre-uploaded: 4/4 (15.2G/15.2G) | committed: 0/12 (0.0/15.2G) | ignored: 0\n",
      "Workers: hashing: 0 | get upload mode: 0 | pre-uploading: 0 | committing: 1 | waiting: 9\n",
      "---------------------------------------------------\n",
      "\u001b[K\u001b[F                       \n",
      "---------- 2025-03-03 02:15:33 (0:14:03) ----------\n",
      "Files:   hashed 12/12 (15.2G/15.2G) | pre-uploaded: 4/4 (15.2G/15.2G) | committed: 0/12 (0.0/15.2G) | ignored: 0\n",
      "Workers: hashing: 0 | get upload mode: 0 | pre-uploading: 0 | committing: 1 | waiting: 9\n",
      "---------------------------------------------------\n",
      "                             "
     ]
    },
    {
     "name": "stderr",
     "output_type": "stream",
     "text": [
      "Failed to commit: 504 Server Error: Gateway Time-out for url: https://huggingface.co/api/models/mlx-community/Qwen2.5-Math-7B-Instruct/commit/main\n",
      "Removing 12 file(s) from commit that have not changed.\n",
      "No files have been modified since last commit. Skipping to prevent empty commit.\n",
      "All files have been processed! Exiting worker.\n",
      "All files have been processed! Exiting worker.\n",
      "INFO:huggingface_hub._upload_large_folder:All files have been processed! Exiting worker.\n",
      "All files have been processed! Exiting worker.\n",
      "INFO:huggingface_hub._upload_large_folder:All files have been processed! Exiting worker.\n",
      "All files have been processed! Exiting worker.\n",
      "INFO:huggingface_hub._upload_large_folder:All files have been processed! Exiting worker.\n",
      "All files have been processed! Exiting worker.\n",
      "INFO:huggingface_hub._upload_large_folder:All files have been processed! Exiting worker.\n",
      "All files have been processed! Exiting worker.\n",
      "INFO:huggingface_hub._upload_large_folder:All files have been processed! Exiting worker.\n",
      "All files have been processed! Exiting worker.\n",
      "INFO:huggingface_hub._upload_large_folder:All files have been processed! Exiting worker.\n",
      "All files have been processed! Exiting worker.\n",
      "INFO:huggingface_hub._upload_large_folder:All files have been processed! Exiting worker.\n",
      "All files have been processed! Exiting worker.\n",
      "INFO:huggingface_hub._upload_large_folder:All files have been processed! Exiting worker.\n",
      "All files have been processed! Exiting worker.\n",
      "INFO:huggingface_hub._upload_large_folder:All files have been processed! Exiting worker.\n",
      "\n",
      "---------- 2025-03-03 02:15:50 (0:14:20) ----------\n",
      "Files:   hashed 12/12 (15.2G/15.2G) | pre-uploaded: 4/4 (15.2G/15.2G) | committed: 12/12 (15.2G/15.2G) | ignored: 0\n",
      "Workers: hashing: 0 | get upload mode: 0 | pre-uploading: 0 | committing: 0 | waiting: 0\n",
      "---------------------------------------------------\n",
      "INFO:huggingface_hub._upload_large_folder:\n",
      "---------- 2025-03-03 02:15:50 (0:14:20) ----------\n",
      "Files:   hashed 12/12 (15.2G/15.2G) | pre-uploaded: 4/4 (15.2G/15.2G) | committed: 12/12 (15.2G/15.2G) | ignored: 0\n",
      "Workers: hashing: 0 | get upload mode: 0 | pre-uploading: 0 | committing: 0 | waiting: 0\n",
      "---------------------------------------------------\n"
     ]
    },
    {
     "name": "stdout",
     "output_type": "stream",
     "text": [
      "Upload successful, go to https://huggingface.co/mlx-community/Qwen2.5-Math-7B-Instruct for details.\n"
     ]
    }
   ],
   "source": [
    "convert(repo, quantize=False, upload_repo=upload_repo)"
   ]
  },
  {
   "cell_type": "code",
   "execution_count": null,
   "metadata": {},
   "outputs": [],
   "source": []
  }
 ],
 "metadata": {
  "kernelspec": {
   "display_name": "ml",
   "language": "python",
   "name": "python3"
  },
  "language_info": {
   "codemirror_mode": {
    "name": "ipython",
    "version": 3
   },
   "file_extension": ".py",
   "mimetype": "text/x-python",
   "name": "python",
   "nbconvert_exporter": "python",
   "pygments_lexer": "ipython3",
   "version": "3.11.9"
  }
 },
 "nbformat": 4,
 "nbformat_minor": 2
}

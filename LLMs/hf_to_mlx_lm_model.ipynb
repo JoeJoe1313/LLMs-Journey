{
 "cells": [
  {
   "cell_type": "code",
   "execution_count": 1,
   "metadata": {},
   "outputs": [],
   "source": [
    "from mlx_lm import convert"
   ]
  },
  {
   "cell_type": "code",
   "execution_count": 2,
   "metadata": {},
   "outputs": [],
   "source": [
    "repo = \"Qwen/Qwen2.5-Math-7B-Instruct\"\n",
    "upload_repo = \"mlx-community/Qwen2.5-Math-7B-Instruct-8bit\""
   ]
  },
  {
   "cell_type": "code",
   "execution_count": 3,
   "metadata": {},
   "outputs": [
    {
     "name": "stdout",
     "output_type": "stream",
     "text": [
      "[INFO] Loading\n"
     ]
    },
    {
     "data": {
      "application/vnd.jupyter.widget-view+json": {
       "model_id": "7807f2f03d71462fa2680b0d3fdef021",
       "version_major": 2,
       "version_minor": 0
      },
      "text/plain": [
       "Fetching 11 files:   0%|          | 0/11 [00:00<?, ?it/s]"
      ]
     },
     "metadata": {},
     "output_type": "display_data"
    },
    {
     "data": {
      "application/vnd.jupyter.widget-view+json": {
       "model_id": "39671022672e47949340c0c693006a9a",
       "version_major": 2,
       "version_minor": 0
      },
      "text/plain": [
       "tokenizer_config.json:   0%|          | 0.00/7.32k [00:00<?, ?B/s]"
      ]
     },
     "metadata": {},
     "output_type": "display_data"
    },
    {
     "name": "stdout",
     "output_type": "stream",
     "text": [
      "[INFO] Quantizing\n",
      "[INFO] Quantized model with 8.500 bits per weight.\n"
     ]
    },
    {
     "data": {
      "application/vnd.jupyter.widget-view+json": {
       "model_id": "cdbc94163bac40d68ed7fc6a557e85fb",
       "version_major": 2,
       "version_minor": 0
      },
      "text/plain": [
       "README.md:   0%|          | 0.00/4.96k [00:00<?, ?B/s]"
      ]
     },
     "metadata": {},
     "output_type": "display_data"
    },
    {
     "name": "stderr",
     "output_type": "stream",
     "text": [
      "Repo created: https://huggingface.co/mlx-community/Qwen2.5-Math-7B-Instruct-8bit\n",
      "Found 11 candidate files to upload\n"
     ]
    },
    {
     "data": {
      "application/vnd.jupyter.widget-view+json": {
       "model_id": "9be1fc2840a3483ca925b47b1f835f7b",
       "version_major": 2,
       "version_minor": 0
      },
      "text/plain": [
       "Recovering from metadata files:   0%|          | 0/11 [00:00<?, ?it/s]"
      ]
     },
     "metadata": {},
     "output_type": "display_data"
    },
    {
     "name": "stdout",
     "output_type": "stream",
     "text": [
      "\n",
      "\n",
      "\n",
      "---------- 2025-03-03 03:05:53 (0:00:00) ----------\n",
      "Files:   hashed 4/11 (9.4K/8.1G) | pre-uploaded: 0/0 (0.0/8.1G) (+11 unsure) | committed: 0/11 (0.0/8.1G) | ignored: 0\n",
      "Workers: hashing: 8 | get upload mode: 2 | pre-uploading: 0 | committing: 0 | waiting: 0\n",
      "---------------------------------------------------\n"
     ]
    },
    {
     "data": {
      "application/vnd.jupyter.widget-view+json": {
       "model_id": "e351ab00ee17412abf94ea009cde05f6",
       "version_major": 2,
       "version_minor": 0
      },
      "text/plain": [
       "tokenizer.json:   0%|          | 0.00/11.4M [00:00<?, ?B/s]"
      ]
     },
     "metadata": {},
     "output_type": "display_data"
    },
    {
     "data": {
      "application/vnd.jupyter.widget-view+json": {
       "model_id": "b66a740ec04244f2abaacc54b00670c1",
       "version_major": 2,
       "version_minor": 0
      },
      "text/plain": [
       "model-00002-of-00002.safetensors:   0%|          | 0.00/2.78G [00:00<?, ?B/s]"
      ]
     },
     "metadata": {},
     "output_type": "display_data"
    },
    {
     "data": {
      "application/vnd.jupyter.widget-view+json": {
       "model_id": "41f28977ffc44e6e919da11031ad705f",
       "version_major": 2,
       "version_minor": 0
      },
      "text/plain": [
       "model-00001-of-00002.safetensors:   0%|          | 0.00/5.32G [00:00<?, ?B/s]"
      ]
     },
     "metadata": {},
     "output_type": "display_data"
    },
    {
     "name": "stdout",
     "output_type": "stream",
     "text": [
      "\u001b[K\u001b[F\n",
      "---------- 2025-03-03 03:06:53 (0:01:00) ----------\n",
      "Files:   hashed 11/11 (8.1G/8.1G) | pre-uploaded: 1/3 (11.4M/8.1G) | committed: 0/11 (0.0/8.1G) | ignored: 0\n",
      "Workers: hashing: 0 | get upload mode: 0 | pre-uploading: 2 | committing: 0 | waiting: 8\n",
      "---------------------------------------------------\n",
      "\u001b[K\u001b[F                       \n",
      "---------- 2025-03-03 03:07:53 (0:02:00) ----------\n",
      "Files:   hashed 11/11 (8.1G/8.1G) | pre-uploaded: 1/3 (11.4M/8.1G) | committed: 0/11 (0.0/8.1G) | ignored: 0\n",
      "Workers: hashing: 0 | get upload mode: 0 | pre-uploading: 2 | committing: 0 | waiting: 8\n",
      "---------------------------------------------------\n",
      "\u001b[K\u001b[F                       \n",
      "---------- 2025-03-03 03:08:54 (0:03:00) ----------\n",
      "Files:   hashed 11/11 (8.1G/8.1G) | pre-uploaded: 1/3 (11.4M/8.1G) | committed: 0/11 (0.0/8.1G) | ignored: 0\n",
      "Workers: hashing: 0 | get upload mode: 0 | pre-uploading: 2 | committing: 0 | waiting: 8\n",
      "---------------------------------------------------\n",
      "\u001b[K\u001b[F                       \n",
      "---------- 2025-03-03 03:09:54 (0:04:00) ----------\n",
      "Files:   hashed 11/11 (8.1G/8.1G) | pre-uploaded: 1/3 (11.4M/8.1G) | committed: 0/11 (0.0/8.1G) | ignored: 0\n",
      "Workers: hashing: 0 | get upload mode: 0 | pre-uploading: 2 | committing: 0 | waiting: 8\n",
      "---------------------------------------------------\n",
      "\u001b[K\u001b[F                       \n",
      "---------- 2025-03-03 03:10:54 (0:05:01) ----------\n",
      "Files:   hashed 11/11 (8.1G/8.1G) | pre-uploaded: 2/3 (2.8G/8.1G) | committed: 0/11 (0.0/8.1G) | ignored: 0\n",
      "Workers: hashing: 0 | get upload mode: 0 | pre-uploading: 1 | committing: 0 | waiting: 9\n",
      "---------------------------------------------------\n",
      "\u001b[K\u001b[F                       \n",
      "---------- 2025-03-03 03:11:54 (0:06:01) ----------\n",
      "Files:   hashed 11/11 (8.1G/8.1G) | pre-uploaded: 2/3 (2.8G/8.1G) | committed: 0/11 (0.0/8.1G) | ignored: 0\n",
      "Workers: hashing: 0 | get upload mode: 0 | pre-uploading: 1 | committing: 0 | waiting: 9\n",
      "---------------------------------------------------\n",
      "\u001b[K\u001b[F                       \n",
      "---------- 2025-03-03 03:12:55 (0:07:01) ----------\n",
      "Files:   hashed 11/11 (8.1G/8.1G) | pre-uploaded: 3/3 (8.1G/8.1G) | committed: 0/11 (0.0/8.1G) | ignored: 0\n",
      "Workers: hashing: 0 | get upload mode: 0 | pre-uploading: 0 | committing: 1 | waiting: 9\n",
      "---------------------------------------------------\n",
      "\u001b[K\u001b[F                       \n",
      "---------- 2025-03-03 03:13:55 (0:08:01) ----------\n",
      "Files:   hashed 11/11 (8.1G/8.1G) | pre-uploaded: 3/3 (8.1G/8.1G) | committed: 0/11 (0.0/8.1G) | ignored: 0\n",
      "Workers: hashing: 0 | get upload mode: 0 | pre-uploading: 0 | committing: 1 | waiting: 9\n",
      "---------------------------------------------------\n",
      "\u001b[K\u001b[F                       \n",
      "---------- 2025-03-03 03:14:55 (0:09:02) ----------\n",
      "Files:   hashed 11/11 (8.1G/8.1G) | pre-uploaded: 3/3 (8.1G/8.1G) | committed: 0/11 (0.0/8.1G) | ignored: 0\n",
      "Workers: hashing: 0 | get upload mode: 0 | pre-uploading: 0 | committing: 1 | waiting: 9\n",
      "---------------------------------------------------\n",
      "                             "
     ]
    },
    {
     "name": "stderr",
     "output_type": "stream",
     "text": [
      "Failed to commit: 504 Server Error: Gateway Time-out for url: https://huggingface.co/api/models/mlx-community/Qwen2.5-Math-7B-Instruct-8bit/commit/main\n",
      "Removing 11 file(s) from commit that have not changed.\n",
      "No files have been modified since last commit. Skipping to prevent empty commit.\n",
      "All files have been processed! Exiting worker.\n",
      "All files have been processed! Exiting worker.\n",
      "INFO:huggingface_hub._upload_large_folder:All files have been processed! Exiting worker.\n",
      "All files have been processed! Exiting worker.\n",
      "INFO:huggingface_hub._upload_large_folder:All files have been processed! Exiting worker.\n",
      "All files have been processed! Exiting worker.\n",
      "INFO:huggingface_hub._upload_large_folder:All files have been processed! Exiting worker.\n",
      "All files have been processed! Exiting worker.\n",
      "INFO:huggingface_hub._upload_large_folder:All files have been processed! Exiting worker.\n",
      "All files have been processed! Exiting worker.\n",
      "INFO:huggingface_hub._upload_large_folder:All files have been processed! Exiting worker.\n",
      "All files have been processed! Exiting worker.\n",
      "INFO:huggingface_hub._upload_large_folder:All files have been processed! Exiting worker.\n",
      "All files have been processed! Exiting worker.\n",
      "INFO:huggingface_hub._upload_large_folder:All files have been processed! Exiting worker.\n",
      "All files have been processed! Exiting worker.\n",
      "INFO:huggingface_hub._upload_large_folder:All files have been processed! Exiting worker.\n",
      "All files have been processed! Exiting worker.\n",
      "INFO:huggingface_hub._upload_large_folder:All files have been processed! Exiting worker.\n",
      "\n",
      "---------- 2025-03-03 03:15:29 (0:09:36) ----------\n",
      "Files:   hashed 11/11 (8.1G/8.1G) | pre-uploaded: 3/3 (8.1G/8.1G) | committed: 11/11 (8.1G/8.1G) | ignored: 0\n",
      "Workers: hashing: 0 | get upload mode: 0 | pre-uploading: 0 | committing: 0 | waiting: 0\n",
      "---------------------------------------------------\n",
      "INFO:huggingface_hub._upload_large_folder:\n",
      "---------- 2025-03-03 03:15:29 (0:09:36) ----------\n",
      "Files:   hashed 11/11 (8.1G/8.1G) | pre-uploaded: 3/3 (8.1G/8.1G) | committed: 11/11 (8.1G/8.1G) | ignored: 0\n",
      "Workers: hashing: 0 | get upload mode: 0 | pre-uploading: 0 | committing: 0 | waiting: 0\n",
      "---------------------------------------------------\n"
     ]
    },
    {
     "name": "stdout",
     "output_type": "stream",
     "text": [
      "Upload successful, go to https://huggingface.co/mlx-community/Qwen2.5-Math-7B-Instruct-8bit for details.\n"
     ]
    }
   ],
   "source": [
    "convert(repo, quantize=True, upload_repo=upload_repo, q_bits=8)"
   ]
  },
  {
   "cell_type": "code",
   "execution_count": null,
   "metadata": {},
   "outputs": [],
   "source": []
  }
 ],
 "metadata": {
  "kernelspec": {
   "display_name": "ml",
   "language": "python",
   "name": "python3"
  },
  "language_info": {
   "codemirror_mode": {
    "name": "ipython",
    "version": 3
   },
   "file_extension": ".py",
   "mimetype": "text/x-python",
   "name": "python",
   "nbconvert_exporter": "python",
   "pygments_lexer": "ipython3",
   "version": "3.11.9"
  }
 },
 "nbformat": 4,
 "nbformat_minor": 2
}

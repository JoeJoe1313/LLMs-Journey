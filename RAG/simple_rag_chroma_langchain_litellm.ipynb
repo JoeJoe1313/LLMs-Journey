{
 "cells": [
  {
   "cell_type": "code",
   "execution_count": 1,
   "metadata": {},
   "outputs": [
    {
     "name": "stdout",
     "output_type": "stream",
     "text": [
      "\n",
      "\u001b[1m[\u001b[0m\u001b[34;49mnotice\u001b[0m\u001b[1;39;49m]\u001b[0m\u001b[39;49m A new release of pip is available: \u001b[0m\u001b[31;49m24.0\u001b[0m\u001b[39;49m -> \u001b[0m\u001b[32;49m25.0\u001b[0m\n",
      "\u001b[1m[\u001b[0m\u001b[34;49mnotice\u001b[0m\u001b[1;39;49m]\u001b[0m\u001b[39;49m To update, run: \u001b[0m\u001b[32;49mpip install --upgrade pip\u001b[0m\n"
     ]
    }
   ],
   "source": [
    "!pip install -q chromadb pypdf2 sentence-transformers litellm langchain"
   ]
  },
  {
   "cell_type": "code",
   "execution_count": 2,
   "metadata": {},
   "outputs": [
    {
     "name": "stderr",
     "output_type": "stream",
     "text": [
      "/Users/ljoana/.pyenv/versions/blog/lib/python3.11/site-packages/pydantic/_internal/_config.py:345: UserWarning: Valid config keys have changed in V2:\n",
      "* 'fields' has been removed\n",
      "  warnings.warn(message, UserWarning)\n"
     ]
    }
   ],
   "source": [
    "import os\n",
    "from typing import Any\n",
    "\n",
    "import chromadb\n",
    "import PyPDF2\n",
    "from langchain.text_splitter import RecursiveCharacterTextSplitter \n",
    "# from langchain_text_splitters import RecursiveCharacterTextSplitter -> latest version?\n",
    "from litellm import completion\n",
    "from sentence_transformers import SentenceTransformer"
   ]
  },
  {
   "cell_type": "code",
   "execution_count": 3,
   "metadata": {},
   "outputs": [],
   "source": [
    "os.environ['LITELLM_LOG'] = 'DEBUG'\n",
    "GEMINI_API_KEY = os.getenv(\"GEMINI_API_KEY\")\n",
    "PDFS_FOLDER_PATH = \"\""
   ]
  },
  {
   "cell_type": "code",
   "execution_count": 4,
   "metadata": {},
   "outputs": [],
   "source": [
    "def extract_text_from_pdfs(pdfs_folder_path: str) -> str:\n",
    "    all_text = \"\"\n",
    "    for pdf_file in os.listdir(pdfs_folder_path):\n",
    "        if pdf_file.endswith(\".pdf\"):\n",
    "            pdf_file_path = os.path.join(pdfs_folder_path, pdf_file)\n",
    "            with open(pdf_file_path, \"rb\") as file:\n",
    "                reader = PyPDF2.PdfReader(file)\n",
    "                for page in reader.pages:\n",
    "                    all_text += page.extract_text()\n",
    "\n",
    "    return all_text"
   ]
  },
  {
   "cell_type": "code",
   "execution_count": 5,
   "metadata": {},
   "outputs": [],
   "source": [
    "all_text = extract_text_from_pdfs(PDFS_FOLDER_PATH)"
   ]
  },
  {
   "cell_type": "code",
   "execution_count": 6,
   "metadata": {},
   "outputs": [],
   "source": [
    "text_splitter = RecursiveCharacterTextSplitter(\n",
    "    chunk_size=500,\n",
    "    chunk_overlap=50,\n",
    "    separators=[\"\\n\\n\", \"\\n\", \" \", \"\"],\n",
    ")\n",
    "chunks = text_splitter.split_text(all_text)"
   ]
  },
  {
   "cell_type": "markdown",
   "metadata": {},
   "source": [
    "## ChromaDB"
   ]
  },
  {
   "cell_type": "code",
   "execution_count": 7,
   "metadata": {},
   "outputs": [
    {
     "name": "stdout",
     "output_type": "stream",
     "text": [
      "Collection does not exist or could not be deleted: Collection knowledge_base does not exist.\n"
     ]
    }
   ],
   "source": [
    "client = chromadb.PersistentClient(path=\"chroma_db\")\n",
    "text_embedding_model = SentenceTransformer(\"all-MiniLM-L6-v2\")\n",
    "\n",
    "try:\n",
    "    client.delete_collection(name=\"knowledge_base\")\n",
    "    print(\"Deleted existing collection: knowledge_base\")\n",
    "except Exception as e:\n",
    "    print(f\"Collection does not exist or could not be deleted: {e}\")\n",
    "collection = client.create_collection(name=\"knowledge_base\")\n",
    "\n",
    "for i, chunk in enumerate(chunks):\n",
    "    embedding = text_embedding_model.encode(chunk)\n",
    "    collection.add(\n",
    "        ids=[f\"chunk_{i}\"],\n",
    "        embeddings=[embedding.tolist()],\n",
    "        metadatas=[{\"source\": \"pdf\", \"chunk_id\": i}],\n",
    "        documents=[chunk],\n",
    "    )"
   ]
  },
  {
   "cell_type": "code",
   "execution_count": 8,
   "metadata": {},
   "outputs": [],
   "source": [
    "def semantic_search(\n",
    "    query: str, text_embedding_model: SentenceTransformer, top_k: int = 5\n",
    ") -> dict[str, Any]:\n",
    "    query_embedding = text_embedding_model.encode(query)\n",
    "\n",
    "    return collection.query(\n",
    "        query_embeddings=[query_embedding.tolist()], n_results=top_k\n",
    "    )"
   ]
  },
  {
   "cell_type": "code",
   "execution_count": 9,
   "metadata": {},
   "outputs": [],
   "source": [
    "query = \"How to apply dual contouring of hermite data to a circle x^2+y^2=2.5^2\"\n",
    "results = semantic_search(query, text_embedding_model)"
   ]
  },
  {
   "cell_type": "code",
   "execution_count": 10,
   "metadata": {},
   "outputs": [
    {
     "name": "stdout",
     "output_type": "stream",
     "text": [
      "Result 1: thatcontain features. This Hermite approach cangenerate contours\n",
      "thatcontain both sharp vertices andsharp edges. One drawback of\n",
      "thismethod istheneed toexplicitly testforsuch features andto\n",
      "then perform some type ofspecial processing inthese cases. As\n",
      "analternati vetotheEMC method, wepropose thefollowing dual\n",
      "contouring method forHermite data:\n",
      "1.Foreach cube thatexhibits asign change, generate avertex\n",
      "positioned attheminimizer ofthequadratic function ofequa-\n",
      "tion1.\n",
      "\n",
      "Result 2: whose edges aretagged byHermite data (i.e; exact intersection\n",
      "points andnormals). This method avoidstheneed toexplicitly iden-\n",
      "tifyandprocess “features” asrequired inprevious Hermite contour -\n",
      "ingmethods. Using anew,numerically stable representation for\n",
      "quadratic error functions, wedevelop anoctree-based method for\n",
      "simplifying contours produced bythismethod. Wenextextend our\n",
      "contouring method tothese simpliﬁed octrees. This newmethod\n",
      "\n",
      "Result 3: contour generated bytheHermite data intheupper leftportion of\n",
      "theﬁgure.\n",
      "Figure 4showsa3Dexample ofamechanical partmodeled by\n",
      "dual contouring Hermite data ona643grid. Theleftimage shows\n",
      "asmooth shaded version ofthepart while theright image shows\n",
      "thepolygonal mesh produced bydual contouring. Theintersection\n",
      "points andnormals forthemodel were generated from aclosed\n",
      "subdi vision surface. Asign ﬁeld denoting theinside/outside ofthe\n",
      "model wascomputed using astandard scan conversion algorithm as\n",
      "\n",
      "Result 4: data consisting ofexact intersection points andnormals from the\n",
      "contour .This Hermite data canbecomputed directly from theim-\n",
      "plicit deﬁnition ofthecontour orbyscan converting aclosed polyg-\n",
      "onal mesh.Figure 2:Asigned grid with edges tagged byHermite data (up-\n",
      "perleft), itsMarching Cubes contour (upper right), itsExtended\n",
      "Marching Cubes contour (lowerleft), anditsdual contour (lower\n",
      "right).\n",
      "2.1Previous contouring metho ds\n",
      "Cube-based methods such astheMarching Cubes (MC) algorithm\n",
      "\n",
      "Result 5: ofthefunction f[x;y;z]=1\u0000x2\u0000y2\u0000z2.This contour consists\n",
      "ofacollection ofpolygons thatapproximate therestriction ofthe\n",
      "contour toindividual cubes inthegrid.\n",
      "Dual methods such astheSurfaceNets algorithm of[Gibson\n",
      "1998] generate onevertexlying onornear thecontour foreach cube\n",
      "thatintersects thecontour .Foreach edge inthegrid thatexhibits\n",
      "asign change, thevertices associated with thefour cubes thatcon-\n",
      "taintheedge arejoined toform aquad. Theresult isacontinuous\n",
      "\n"
     ]
    }
   ],
   "source": [
    "for i, result in enumerate(results[\"documents\"][0]):\n",
    "    print(f\"Result {i+1}: {result}\\n\")"
   ]
  },
  {
   "cell_type": "markdown",
   "metadata": {},
   "source": [
    "## LiteLLM with Gemini"
   ]
  },
  {
   "cell_type": "code",
   "execution_count": 11,
   "metadata": {},
   "outputs": [],
   "source": [
    "def generate_response(query: str, context: str) -> str:\n",
    "    prompt = f\"Query: {query}\\nContext: {context}\\nAnswer:\"\n",
    "    response = completion(\n",
    "        model=\"gemini/gemini-1.5-flash\",\n",
    "        messages=[{\"content\": prompt, \"role\": \"user\"}],\n",
    "        api_key=GEMINI_API_KEY,\n",
    "    )\n",
    "\n",
    "    return response[\"choices\"][0][\"message\"][\"content\"]"
   ]
  },
  {
   "cell_type": "code",
   "execution_count": 12,
   "metadata": {},
   "outputs": [],
   "source": [
    "search_results = semantic_search(query, text_embedding_model)\n",
    "context = \"\\n\".join(search_results['documents'][0])"
   ]
  },
  {
   "cell_type": "code",
   "execution_count": 13,
   "metadata": {},
   "outputs": [
    {
     "name": "stdout",
     "output_type": "stream",
     "text": [
      "Generated Response:\n",
      " The provided text describes a dual contouring method for Hermite data, but it doesn't offer a direct algorithm for applying it to a specific function like the circle x² + y² = 2.5².  However, we can outline the steps based on the description:\n",
      "\n",
      "**1. Create a signed distance field:**\n",
      "\n",
      "* **Discretize the space:** Create a grid covering the area containing the circle.  The resolution of the grid will determine the accuracy of the final contour.\n",
      "* **Evaluate the function:** For each grid cell (cube), determine whether it's inside or outside the circle by evaluating the function x² + y² - 2.5² at the cell's center (or corners).  A positive value means outside, a negative value means inside.  Store this as a signed distance value (positive distance for outside points, negative for inside points).  Alternatively, you can simply store a sign (+1 or -1).\n",
      "\n",
      "**2. Identify sign changes:**\n",
      "\n",
      "* **Edge traversal:** For each edge of each grid cell, check if the signed distance values at the edge's endpoints have different signs. This indicates that the circle intersects the edge.\n",
      "\n",
      "**3. Compute Hermite data (intersection points and normals):**\n",
      "\n",
      "* **Intersection point:** For each edge with a sign change, find the precise intersection point of the circle and the edge using a root-finding method (e.g., bisection).  This will be the exact intersection point of the circle with that edge.\n",
      "* **Normal vector:** At each intersection point, calculate the normal vector to the circle. This is simply the normalized vector from the center of the circle (0,0) to the intersection point.\n",
      "\n",
      "\n",
      "**4. Apply Dual Contouring:**\n",
      "\n",
      "* **Quadratic Minimization (Step 1 of the algorithm):** For each cube with at least one sign change on its edges (meaning the circle passes through it), fit a quadratic function to the Hermite data (intersection points and normals) associated with the edges of that cube. Find the minimum of this quadratic function. This minimum point will be the vertex position for that cube.  Note that the paper mentions using a numerically stable representation for the quadratic error function, which is crucial for robust results.\n",
      "\n",
      "* **Mesh Generation (Step 2 of the algorithm):** Connect the vertices generated in the previous step to form a polygon mesh. The connectivity is determined by the adjacency of the cubes.  The details of how these vertices are connected are not explicitly given in your provided text, but would typically involve connecting vertices from cubes that share faces.\n",
      "\n",
      "\n",
      "**Code Outline (Conceptual - requires a numerical library):**\n",
      "\n",
      "```python\n",
      "import numpy as np  # Or another numerical library\n",
      "\n",
      "def signed_distance(x, y):\n",
      "  return x**2 + y**2 - 2.5**2\n",
      "\n",
      "# Grid parameters\n",
      "grid_size = 50\n",
      "grid_spacing = 0.1\n",
      "\n",
      "# Create grid\n",
      "x = np.linspace(-3, 3, grid_size)\n",
      "y = np.linspace(-3, 3, grid_size)\n",
      "xv, yv = np.meshgrid(x, y)\n",
      "\n",
      "# Evaluate signed distance field\n",
      "sdf = signed_distance(xv, yv)\n",
      "\n",
      "# Find sign changes (simplified - needs refinement for edges)\n",
      "# ... (Implementation to detect edge sign changes) ...\n",
      "\n",
      "# Compute Hermite data (simplified - needs accurate intersection and normal calculations)\n",
      "# ... (Implementation to find intersection points and normals on edges with sign changes) ...\n",
      "\n",
      "# Perform quadratic minimization and mesh generation (most complex step)\n",
      "# ... (This will require a significant implementation based on the paper's details) ...\n",
      "\n",
      "# Output the mesh (e.g., as a list of vertices and faces)\n",
      "# ...\n",
      "```\n",
      "\n",
      "This is a high-level outline.  A full implementation would be significantly more complex and require specialized numerical methods for accurate intersection point calculation, quadratic fitting and minimization, and mesh generation.  The cited paper provides further details on these aspects.\n",
      "\n"
     ]
    }
   ],
   "source": [
    "response = generate_response(query, context)\n",
    "print(\"Generated Response:\\n\", response)"
   ]
  },
  {
   "cell_type": "code",
   "execution_count": null,
   "metadata": {},
   "outputs": [],
   "source": []
  }
 ],
 "metadata": {
  "kernelspec": {
   "display_name": "blog",
   "language": "python",
   "name": "python3"
  },
  "language_info": {
   "codemirror_mode": {
    "name": "ipython",
    "version": 3
   },
   "file_extension": ".py",
   "mimetype": "text/x-python",
   "name": "python",
   "nbconvert_exporter": "python",
   "pygments_lexer": "ipython3",
   "version": "3.11.10"
  }
 },
 "nbformat": 4,
 "nbformat_minor": 2
}
